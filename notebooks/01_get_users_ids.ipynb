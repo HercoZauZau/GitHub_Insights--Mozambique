{
 "cells": [
  {
   "cell_type": "markdown",
   "id": "d04cf6f6-d1a2-44f9-8524-521b7d0ed2b7",
   "metadata": {},
   "source": [
    "# Documentação: Coleta de Utilizadores (IDs) do GitHub por Localização\n",
    "\n",
    "## Introdução\n",
    "Este script recupera informações sobre o número total de utilizadores do GitHub por localização e obtém os IDs desses utilizadores de forma concorrente. Os dados são filtrados e salvos em um arquivo CSV.\n",
    "\n",
    "## Dependências\n",
    "Antes de executar o script, instale as bibliotecas necessárias:\n",
    "\n",
    "```bash\n",
    "pip install requests concurrent.futures pandas\n",
    "```\n",
    "\n",
    "## Estrutura do Script\n",
    "\n",
    "### 1. Função `fetch_user_count`\n",
    "```python\n",
    "def fetch_user_count(location, session):\n",
    "```\n",
    "Essa função obtém o número total de utilizadores do GitHub para um determinado local utilizando a API do GitHub.\n",
    "\n",
    "### 2. Função `get_total_users_by_location`\n",
    "```python\n",
    "def get_total_users_by_location(locations):\n",
    "```\n",
    "Essa função faz chamadas concorrentes para buscar o número de utilizadores do GitHub em diferentes localizações.\n",
    "\n",
    "### 3. Lista de Localizações\n",
    "```python\n",
    "locations = [\"Mozambique\", \"Moçambique\", \"Mocambique\", \"Maputo\", \"Matola\", \"Inhambane\", \"Manica\", \"Sofala\", \"Tete\", \"Zambezia\", \"Nampula\", \"Niassa\", \"Cabo Delgado\"]\n",
    "```\n",
    "Define as localizações cujos utilizadores serão pesquisados.\n",
    "\n",
    "### 4. Função `fetch_page`\n",
    "```python\n",
    "def fetch_page(location, page, session, headers):\n",
    "```\n",
    "Função auxiliar para obter uma página específica de IDs de utilizadores do GitHub.\n",
    "\n",
    "### 5. Função `get_users_ids_by_location`\n",
    "```python\n",
    "def get_users_ids_by_location(location):\n",
    "```\n",
    "Essa função busca os IDs dos utilizadores do GitHub com base em uma localização especificada e trata a paginação da API.\n",
    "\n",
    "### 6. Carregamento de IDs e Salvamento dos Dados\n",
    "```python\n",
    "dir_name = os.getenv('DIR_NAME')\n",
    "base_path = f'../data/{dir_name}'\n",
    "os.makedirs(base_path, exist_ok=True)\n",
    "```\n",
    "Define o diretório base onde os dados serão armazenados.\n",
    "\n",
    "**Fluxo Completo:**\n",
    "1. Coleta o número total de utilizadores para cada localização especificada.\n",
    "2. Obtém os IDs dos utilizadores associados a cada localização.\n",
    "3. Salva os IDs extraídos em um arquivo CSV:\n",
    "   - `users_ids.csv`: Contém os IDs dos utilizadores.\n",
    "\n",
    "### 7. Uso de Variáveis de Ambiente\n",
    "O script requer duas variáveis de ambiente:\n",
    "- `GITHUB_TOKEN`: Token de acesso à API do GitHub.\n",
    "- `DIR_NAME`: Nome do diretório base para armazenamento dos dados processados.\n",
    "\n",
    "Certifique-se de defini-las antes de executar o script.\n"
   ]
  },
  {
   "cell_type": "markdown",
   "id": "1398e31b-941c-4745-9582-1ad1b76d856e",
   "metadata": {},
   "source": [
    "# Main"
   ]
  },
  {
   "cell_type": "code",
   "execution_count": 1,
   "id": "ac01f8a3",
   "metadata": {
    "ExecuteTime": {
     "end_time": "2023-06-19T10:36:11.801645Z",
     "start_time": "2023-06-19T10:36:11.107307Z"
    }
   },
   "outputs": [
    {
     "data": {
      "text/plain": [
       "True"
      ]
     },
     "execution_count": 1,
     "metadata": {},
     "output_type": "execute_result"
    }
   ],
   "source": [
    "import os\n",
    "import time\n",
    "import requests\n",
    "import pandas as pd\n",
    "from tqdm import tqdm\n",
    "import concurrent.futures\n",
    "from urllib.parse import urlparse, parse_qs\n",
    "\n",
    "from dotenv import load_dotenv\n",
    "load_dotenv()"
   ]
  },
  {
   "cell_type": "code",
   "execution_count": 2,
   "id": "329a3f71",
   "metadata": {},
   "outputs": [
    {
     "name": "stdout",
     "output_type": "stream",
     "text": [
      "Usuários por localização \n",
      "\n",
      "Mozambique: 1803\n",
      "Moçambique: 382\n",
      "Mocambique: 54\n",
      "Maputo: 1289\n",
      "Matola: 74\n",
      "Inhambane: 19\n",
      "Manica: 8\n",
      "Sofala: 46\n",
      "Tete: 48\n",
      "Zambezia: 13\n",
      "Nampula: 85\n",
      "Niassa: 13\n",
      "Cabo Delgado: 3\n"
     ]
    }
   ],
   "source": [
    "def fetch_user_count(location, session):\n",
    "    \"\"\"\n",
    "    Obtém o número total de utilizadores do GitHub para um determinado local usando a sessão fornecida.\n",
    "    \"\"\"\n",
    "\n",
    "    token = os.getenv('GITHUB_TOKEN')\n",
    "    headers = {\n",
    "        'Authorization': f'Token {token}',\n",
    "        'Accept': 'application/vnd.github.v3+json'\n",
    "    }\n",
    "    \n",
    "    url = f'https://api.github.com/search/users?q=location:{location}'\n",
    "    \n",
    "    try:\n",
    "        response = session.get(url, headers=headers)\n",
    "        response.raise_for_status()\n",
    "        total_count = response.json().get('total_count', 0)\n",
    "        return {'total_users': total_count, 'location': location}\n",
    "    except requests.RequestException as e:\n",
    "        print(f\"Erro na requisição ({location}): {e}\")\n",
    "        return {'total_users': None, 'location': location}\n",
    "\n",
    "def get_total_users_by_location(locations):\n",
    "    \"\"\"\n",
    "    Obtém o número total de utilizadores do GitHub para cada local especificado de forma concorrente.\n",
    "    \n",
    "    Args:\n",
    "        locations (list): Lista de locais para obter o número de utilizadores.\n",
    "        \n",
    "    Returns:\n",
    "        list: Lista de dicionários, onde cada dicionário contém o número total de utilizadores e o local correspondente.\n",
    "    \"\"\"\n",
    "    users_by_location = []\n",
    "\n",
    "    # Utilizar uma sessão para reutilização de conexões\n",
    "    with requests.Session() as session:\n",
    "        # Criar um pool de threads para obter os dados de forma concorrente\n",
    "        with concurrent.futures.ThreadPoolExecutor(max_workers=5) as executor:\n",
    "            # Agendar todas as tarefas de obtenção e preservar a ordem recolhendo os futures numa lista.\n",
    "            futures = [executor.submit(fetch_user_count, location, session) for location in locations]\n",
    "            # Obter os resultados na mesma ordem da lista de locais\n",
    "            users_by_location = [future.result() for future in futures]\n",
    "\n",
    "    return users_by_location\n",
    "\n",
    "# Lista de locais para obter o número de utilizadores\n",
    "# A província de Gaza foi omitida para evitar confusão com regiões com nomes parecidos.\n",
    "# Outros nomes que possam causar ambiguidades também serão excluídos.\n",
    "locations = [\n",
    "    'Mozambique', \n",
    "    'Moçambique', \n",
    "    'Mocambique', \n",
    "    'Maputo', \n",
    "    'Matola',\n",
    "    'Inhambane', \n",
    "    'Manica',\n",
    "    'Sofala',\n",
    "    'Tete',\n",
    "    'Zambezia',\n",
    "    'Nampula',\n",
    "    'Niassa',\n",
    "    'Cabo Delgado'\n",
    "]\n",
    "\n",
    "if __name__ == \"__main__\":\n",
    "    results = get_total_users_by_location(locations)\n",
    "\n",
    "    # Exibir os resultados\n",
    "    print(\"Usuários por localização \\n\")\n",
    "    for result in results:\n",
    "        print(f\"{result['location']}: {result['total_users']}\")\n"
   ]
  },
  {
   "cell_type": "code",
   "execution_count": 3,
   "id": "6c9d42b0",
   "metadata": {},
   "outputs": [],
   "source": [
    "def fetch_page(location, page, session, headers):\n",
    "    \"\"\"\n",
    "    Função auxiliar para obter uma página específica de IDs de utilizadores do GitHub.\n",
    "    \"\"\"\n",
    "    url = \"https://api.github.com/search/users\"\n",
    "    params = {\n",
    "        'q': f'location:{location}',\n",
    "        'per_page': 100,\n",
    "        'page': page,\n",
    "        'order': 'asc',\n",
    "        'sort': 'joined'\n",
    "    }\n",
    "    response = session.get(url, headers=headers, params=params)\n",
    "    response.raise_for_status()\n",
    "    data = response.json()\n",
    "    return [user[\"id\"] for user in data.get(\"items\", [])]\n",
    "\n",
    "def get_users_ids_by_location(location):\n",
    "    \"\"\"\n",
    "    Obtém os IDs de utilizadores da API do GitHub com base no local especificado.\n",
    "\n",
    "    Args:\n",
    "        location (str): Local dos utilizadores a procurar.\n",
    "\n",
    "    Returns:\n",
    "        list: Lista de IDs de utilizadores encontrados ou None se a requisição falhar.\n",
    "    \"\"\"\n",
    "    token = os.getenv('GITHUB_TOKEN')\n",
    "\n",
    "    if not token:\n",
    "        print(\"Erro: O token de autenticação (GITHUB_TOKEN) não foi encontrado. Certifique-se de que está definido corretamente.\")\n",
    "        return None\n",
    "            \n",
    "    headers = {\n",
    "        'Authorization': f'Token {token}',\n",
    "        'Accept': 'application/vnd.github.v3+json'\n",
    "    }\n",
    "\n",
    "    base_url = \"https://api.github.com/search/users\"\n",
    "    params = {\n",
    "        'q': f'location:{location}',\n",
    "        'per_page': 100,  # Número máximo de itens por página\n",
    "        'page': 1,        # Começa na página 1\n",
    "        'order': 'asc',\n",
    "        'sort': 'joined',\n",
    "    }\n",
    "\n",
    "    user_ids = []\n",
    "\n",
    "    with requests.Session() as session:\n",
    "        # Obter a primeira página\n",
    "        response = session.get(base_url, headers=headers, params=params)\n",
    "        if response.status_code != 200:\n",
    "            print(f\"Erro na requisição ({location}): {response.status_code}\")\n",
    "            return None\n",
    "\n",
    "        data = response.json()\n",
    "        user_ids.extend([user[\"id\"] for user in data.get(\"items\", [])])\n",
    "\n",
    "        # Verificar se há páginas adicionais através do link 'last'\n",
    "        if 'last' in response.links:\n",
    "            # Extrair o número total de páginas do URL do link 'last'\n",
    "            last_url = response.links['last']['url']\n",
    "            parsed_url = urlparse(last_url)\n",
    "            query_params = parse_qs(parsed_url.query)\n",
    "            last_page = int(query_params.get('page', [1])[0])\n",
    "\n",
    "            # Agendar requisições concorrentes para as páginas 2 até last_page\n",
    "            pages = range(2, last_page + 1)\n",
    "            with concurrent.futures.ThreadPoolExecutor(max_workers=5) as executor:\n",
    "                futures = [\n",
    "                    executor.submit(fetch_page, location, page, session, headers)\n",
    "                    for page in pages\n",
    "                ]\n",
    "                for future in concurrent.futures.as_completed(futures):\n",
    "                    try:\n",
    "                        ids = future.result()\n",
    "                        user_ids.extend(ids)\n",
    "                    except Exception as exc:\n",
    "                        print(f\"Erro ao obter uma página para {location}: {exc}\")\n",
    "\n",
    "    return user_ids or None\n"
   ]
  },
  {
   "cell_type": "code",
   "execution_count": 5,
   "id": "53ebd458-ef4a-451d-b34a-0c2280f3dec1",
   "metadata": {},
   "outputs": [
    {
     "name": "stderr",
     "output_type": "stream",
     "text": [
      "Processando localizações: 100%|██████████| 13/13 [02:29<00:00, 11.47s/it]\n"
     ]
    }
   ],
   "source": [
    "dir_name = os.getenv('DIR_NAME')\n",
    "base_path = f'../data/{dir_name}'\n",
    "os.makedirs(base_path, exist_ok=True)\n",
    "\n",
    "data = []\n",
    "\n",
    "for loc in tqdm(locations, desc=\"Processando localizações\"):\n",
    "    final_data = get_users_ids_by_location(loc)\n",
    "    \n",
    "    if final_data:\n",
    "        for user_id in final_data:\n",
    "            data.append({'user_id': user_id})\n",
    "    \n",
    "    # Aguarda 10 segundos após processar cada localização para não exceder o limite de 30 requisições por minuto\n",
    "    time.sleep(10)\n"
   ]
  },
  {
   "cell_type": "code",
   "execution_count": 6,
   "id": "01d77c30-fa50-4e95-992e-2b4db945723f",
   "metadata": {},
   "outputs": [
    {
     "name": "stdout",
     "output_type": "stream",
     "text": [
      "Gravados IDs de 2029 usuários.\n"
     ]
    }
   ],
   "source": [
    "df = pd.DataFrame(data, columns=['user_id']).drop_duplicates().sort_values(by='user_id')\n",
    "\n",
    "file_name = f'{base_path}/users_ids.csv'\n",
    "df.to_csv(file_name, index=False)\n",
    "\n",
    "print(f\"Gravados IDs de {len(df)} usuários.\")"
   ]
  },
  {
   "cell_type": "code",
   "execution_count": null,
   "id": "ebf7f019-d077-4626-ba14-c5a003e644cb",
   "metadata": {},
   "outputs": [],
   "source": []
  }
 ],
 "metadata": {
  "kernelspec": {
   "display_name": "Python 3 (ipykernel)",
   "language": "python",
   "name": "python3"
  },
  "language_info": {
   "codemirror_mode": {
    "name": "ipython",
    "version": 3
   },
   "file_extension": ".py",
   "mimetype": "text/x-python",
   "name": "python",
   "nbconvert_exporter": "python",
   "pygments_lexer": "ipython3",
   "version": "3.11.8"
  },
  "toc": {
   "base_numbering": 1,
   "nav_menu": {},
   "number_sections": true,
   "sideBar": true,
   "skip_h1_title": false,
   "title_cell": "Table of Contents",
   "title_sidebar": "Contents",
   "toc_cell": false,
   "toc_position": {},
   "toc_section_display": true,
   "toc_window_display": false
  },
  "varInspector": {
   "cols": {
    "lenName": 16,
    "lenType": 16,
    "lenVar": 40
   },
   "kernels_config": {
    "python": {
     "delete_cmd_postfix": "",
     "delete_cmd_prefix": "del ",
     "library": "var_list.py",
     "varRefreshCmd": "print(var_dic_list())"
    },
    "r": {
     "delete_cmd_postfix": ") ",
     "delete_cmd_prefix": "rm(",
     "library": "var_list.r",
     "varRefreshCmd": "cat(var_dic_list()) "
    }
   },
   "types_to_exclude": [
    "module",
    "function",
    "builtin_function_or_method",
    "instance",
    "_Feature"
   ],
   "window_display": false
  }
 },
 "nbformat": 4,
 "nbformat_minor": 5
}
