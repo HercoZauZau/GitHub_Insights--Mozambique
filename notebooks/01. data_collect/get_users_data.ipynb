{
 "cells": [
  {
   "cell_type": "code",
   "execution_count": 1,
   "id": "6e8a17cb",
   "metadata": {
    "ExecuteTime": {
     "end_time": "2023-06-15T23:10:59.713463Z",
     "start_time": "2023-06-15T23:10:53.875867Z"
    }
   },
   "outputs": [],
   "source": [
    "import os\n",
    "import requests\n",
    "import pandas as pd\n",
    "from dotenv import load_dotenv\n",
    "from datetime import datetime"
   ]
  },
  {
   "cell_type": "code",
   "execution_count": null,
   "id": "53cbd554",
   "metadata": {},
   "outputs": [],
   "source": [
    "# Load environment variables from .env file\n",
    "load_dotenv()"
   ]
  },
  {
   "cell_type": "code",
   "execution_count": null,
   "id": "8fc3d1da",
   "metadata": {},
   "outputs": [],
   "source": [
    "# Load data from CSV file\n",
    "users_ids = pd.read_csv(\"../../data/processed/users_ids.csv\", encoding='latin1')\n",
    "users_ids = users_ids['id_usuario'].to_list()"
   ]
  },
  {
   "cell_type": "code",
   "execution_count": 1,
   "id": "02918e70",
   "metadata": {
    "ExecuteTime": {
     "end_time": "2023-06-22T17:17:48.074847Z",
     "start_time": "2023-06-22T17:17:48.063721Z"
    },
    "scrolled": false
   },
   "outputs": [],
   "source": [
    "def get_users_data(id_list):\n",
    "    \"\"\"\n",
    "    Retrieves data for GitHub users based on their IDs.\n",
    "\n",
    "    Args:\n",
    "        id_list (list): List of GitHub user IDs.\n",
    "\n",
    "    Returns:\n",
    "        dict: Dictionary containing user data.\n",
    "    \"\"\"\n",
    "    \n",
    "    token = os.getenv('GITHUB_TOKEN')\n",
    "    headers = {'Authorization': f'Token {token}', 'Accept': 'application/vnd.github.v3+json'}\n",
    "    \n",
    "    city = ['maputo', 'matola', 'gaza', 'inhambane', 'manica', 'sofala', 'tete', 'zambézia', 'nampula', 'niassa', 'cabo delgado']\n",
    "    \n",
    "    user = {\n",
    "        \"id\": [],\n",
    "        \"city_id\": [],\n",
    "        \"followers\": [],\n",
    "        \"following\": [],\n",
    "        \"created_at\": [],\n",
    "        \"updated_at\": [],\n",
    "    }\n",
    "    \n",
    "    for i in id_list:\n",
    "        url = f\"https://api.github.com/user/{i}\"\n",
    "        response = requests.get(url, headers=headers)\n",
    "        \n",
    "        if response.status_code == 200:\n",
    "            data = response.json()\n",
    "            \n",
    "            for value in user:\n",
    "                if value == \"city_id\": # If the key is \"city_id\", determine the city ID based on the user's location\n",
    "                    city_id = ''\n",
    "                    \n",
    "                    for index, name in enumerate(city):\n",
    "                        if name in data['location'].lower():\n",
    "                            city_id = index\n",
    "                            break\n",
    "                    \n",
    "                    user[value].append(city_id) \n",
    "                    \n",
    "                elif value == \"created_at\" or value == \"updated_at\": # If the key is \"created_at\" or \"updated_at\", convert the date string to a datetime object and format it\n",
    "                    date = datetime.strptime(data[value], \"%Y-%m-%dT%H:%M:%SZ\")\n",
    "                    date = date.strftime('%Y-%m-%d')\n",
    "                    \n",
    "                    user[value].append(date) \n",
    "                    \n",
    "                else:\n",
    "                    user[value].append(data[value]) \n",
    "                \n",
    "        else:\n",
    "            print('Request Error:', response.status_code)\n",
    "            break\n",
    "            \n",
    "    return user\n",
    "\n",
    "\n",
    "final_data = get_users_data(users_ids)\n",
    "\n",
    "# Create a DataFrame with the new data\n",
    "filename = \"../../data/processed/users_data.csv\"\n",
    "users_data = pd.DataFrame(final_data)\n",
    "users_data.to_csv(filename, index=False, encoding='latin1')\n",
    "\n",
    "print('Done')\n"
   ]
  }
 ],
 "metadata": {
  "kernelspec": {
   "display_name": "Python 3 (ipykernel)",
   "language": "python",
   "name": "python3"
  },
  "language_info": {
   "codemirror_mode": {
    "name": "ipython",
    "version": 3
   },
   "file_extension": ".py",
   "mimetype": "text/x-python",
   "name": "python",
   "nbconvert_exporter": "python",
   "pygments_lexer": "ipython3",
   "version": "3.10.11"
  },
  "toc": {
   "base_numbering": 1,
   "nav_menu": {},
   "number_sections": true,
   "sideBar": true,
   "skip_h1_title": false,
   "title_cell": "Table of Contents",
   "title_sidebar": "Contents",
   "toc_cell": false,
   "toc_position": {},
   "toc_section_display": true,
   "toc_window_display": false
  },
  "varInspector": {
   "cols": {
    "lenName": 16,
    "lenType": 16,
    "lenVar": 40
   },
   "kernels_config": {
    "python": {
     "delete_cmd_postfix": "",
     "delete_cmd_prefix": "del ",
     "library": "var_list.py",
     "varRefreshCmd": "print(var_dic_list())"
    },
    "r": {
     "delete_cmd_postfix": ") ",
     "delete_cmd_prefix": "rm(",
     "library": "var_list.r",
     "varRefreshCmd": "cat(var_dic_list()) "
    }
   },
   "types_to_exclude": [
    "module",
    "function",
    "builtin_function_or_method",
    "instance",
    "_Feature"
   ],
   "window_display": false
  }
 },
 "nbformat": 4,
 "nbformat_minor": 5
}
