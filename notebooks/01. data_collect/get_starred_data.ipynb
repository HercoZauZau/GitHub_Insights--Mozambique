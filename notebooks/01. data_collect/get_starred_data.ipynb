{
 "cells": [
  {
   "cell_type": "code",
   "execution_count": 2,
   "id": "731b1b61",
   "metadata": {
    "ExecuteTime": {
     "end_time": "2023-06-18T20:30:06.099506Z",
     "start_time": "2023-06-18T20:29:58.384438Z"
    }
   },
   "outputs": [],
   "source": [
    "import os\n",
    "import requests\n",
    "import pandas as pd\n",
    "import numpy as np\n",
    "from tqdm import tqdm\n",
    "from dotenv import load_dotenv\n",
    "from collections import Counter"
   ]
  },
  {
   "cell_type": "code",
   "execution_count": 3,
   "id": "06f68d57",
   "metadata": {},
   "outputs": [
    {
     "data": {
      "text/plain": [
       "True"
      ]
     },
     "execution_count": 3,
     "metadata": {},
     "output_type": "execute_result"
    }
   ],
   "source": [
    "# Load environment variables from .env file\n",
    "load_dotenv()"
   ]
  },
  {
   "cell_type": "code",
   "execution_count": 4,
   "id": "3093aed6",
   "metadata": {
    "ExecuteTime": {
     "end_time": "2023-06-18T20:30:06.324815Z",
     "start_time": "2023-06-18T20:30:06.136447Z"
    }
   },
   "outputs": [],
   "source": [
    "dir_name = os.getenv('DIR_NAME')\n",
    "base_path = f'../../data/processed/{dir_name}'\n",
    "os.makedirs(base_path, exist_ok=True)"
   ]
  },
  {
   "cell_type": "code",
   "execution_count": 5,
   "id": "d2e41706",
   "metadata": {
    "ExecuteTime": {
     "end_time": "2023-06-24T06:54:14.241006Z",
     "start_time": "2023-06-24T06:54:13.664958Z"
    }
   },
   "outputs": [],
   "source": [
    "def get_repositories_data(user_ids, recorded_data):\n",
    "    \"\"\"\n",
    "    Retrieves repositories data for a given list of user IDs.\n",
    "\n",
    "    Parameters:\n",
    "    - user_ids (list): List of user IDs.\n",
    "\n",
    "    Returns:\n",
    "    - repositories (dict): Dictionary containing repositories data.\n",
    "        - 'user_id' (list): List of user IDs.\n",
    "        - 'has_moz_owner' (list): List indicating whether a repository has a Mozilla owner.\n",
    "        - 'fav_lang' (list): List of favorite programming languages for each user.\n",
    "        - 'fav_topic' (list): List of favorite topics for each user.\n",
    "    \"\"\"\n",
    "    \n",
    "    token = os.getenv('GITHUB_TOKEN')\n",
    "    headers = {'Authorization': f'Token {token}', 'Accept': 'application/vnd.github.v3+json'}\n",
    "    \n",
    "    params = {\n",
    "        'per_page': 100,  # Number of items per page\n",
    "        'page': 1,  # Initial page\n",
    "    }\n",
    "\n",
    "    repositories = {\n",
    "        'user_id': [],\n",
    "        'has_moz_owner': [],\n",
    "        'fav_lang': [],\n",
    "        'fav_topic': [],\n",
    "    }\n",
    "    \n",
    "    owner_ids = []\n",
    "    languages = []\n",
    "    topics = []\n",
    "\n",
    "    # Remove IDs already written to the file\n",
    "    filter_ids = [id for id in user_ids if id not in recorded_data]\n",
    "    user_ids = filter_ids\n",
    "\n",
    "    total_id_list = len(user_ids)\n",
    "    progress_bar = tqdm(total=total_id_list, desc=\"Processing\") # Create a tqdm instance\n",
    "\n",
    "    for user_id in user_ids:\n",
    "        \n",
    "        url = f\"https://api.github.com/user/{user_id}/starred\"\n",
    "        \n",
    "        while True:\n",
    "\n",
    "            try:\n",
    "                response = requests.get(url, headers=headers, params=params, timeout=1000)\n",
    "            except requests.exceptions.Timeout:\n",
    "                print(f\"Request timed out.\")\n",
    "            \n",
    "                progress_bar.close() \n",
    "                return repositories\n",
    "\n",
    "            if response.status_code == 200:\n",
    "\n",
    "                data = response.json()\n",
    "                \n",
    "                if len(data) > 0 :\n",
    "                    \n",
    "                    for repo in data:\n",
    "\n",
    "                        owner_ids.append(repo['owner']['id'])\n",
    "                        languages.append(repo['language'])\n",
    "\n",
    "                        for topic in repo['topics']:\n",
    "                            topics.append(topic)\n",
    "\n",
    "                    if 'next' in response.links:\n",
    "                        url = response.links['next']['url'] \n",
    "                        params = {}\n",
    "                        \n",
    "                    else:\n",
    "                        repositories['user_id'].append(user_id)\n",
    "                        repositories['has_moz_owner'].append(np.intersect1d(np.array(owner_ids), np.array(user_ids)).size > 0) \n",
    "                        \n",
    "                        if len(languages) > 0:\n",
    "                            repositories['fav_lang'].append(Counter(languages).most_common(1)[0][0])\n",
    "                        else:\n",
    "                            repositories['fav_lang'].append(None)\n",
    "                        \n",
    "                        if len(topics) > 0:\n",
    "                            repositories['fav_topic'].append(Counter(topics).most_common(1)[0][0])\n",
    "                        else:\n",
    "                            repositories['fav_topic'].append(None)\n",
    "\n",
    "                        owner_ids = []\n",
    "                        languages = []\n",
    "                        topics = []\n",
    "\n",
    "                        break\n",
    "                else: \n",
    "                    break\n",
    "                        \n",
    "            else:\n",
    "                print('Request Error:', response.status_code)\n",
    "                # break\n",
    "                \n",
    "        progress_bar.update(1)     # Update the progress bar\n",
    "    \n",
    "    progress_bar.close() # Close the progress bar\n",
    "    return repositories\n",
    "\n",
    "\n",
    "\n",
    "def check_existing_data(file_path):\n",
    "    if not os.path.exists(file_path):\n",
    "        return []\n",
    "    \n",
    "    data = pd.read_csv(file_path)\n",
    "    id_list = list(set(data['id']))\n",
    "\n",
    "    return id_list\n"
   ]
  },
  {
   "cell_type": "code",
   "execution_count": 6,
   "id": "13b1d636-6b7b-4459-9b1f-1bd0f5724901",
   "metadata": {},
   "outputs": [
    {
     "name": "stderr",
     "output_type": "stream",
     "text": [
      "Processing: 100%|██████████| 1768/1768 [52:45<00:00,  1.79s/it]  \n"
     ]
    }
   ],
   "source": [
    "users_ids = pd.read_csv(f\"{base_path}/users_ids.csv\", encoding='latin1')\n",
    "users_ids = users_ids['user_id'].to_list()\n",
    "\n",
    "filename = f\"{base_path}/starred.csv\"\n",
    "\n",
    "recorded_users = check_existing_data(filename)\n",
    "final_data = get_repositories_data(users_ids, recorded_users)\n",
    "\n",
    "stared_data = pd.DataFrame(final_data)"
   ]
  },
  {
   "cell_type": "code",
   "execution_count": 7,
   "id": "c254004b-8f02-42b8-af13-62a03f7cdb3e",
   "metadata": {},
   "outputs": [
    {
     "name": "stdout",
     "output_type": "stream",
     "text": [
      "Done\n"
     ]
    }
   ],
   "source": [
    "# Save the extracted data\n",
    "if os.path.exists(filename):\n",
    "    existing_data = pd.read_csv(filename, encoding='latin1')\n",
    "    updated_data = pd.concat([existing_data, stared_data], ignore_index=True)\n",
    "else:\n",
    "    updated_data = stared_data\n",
    "\n",
    "\n",
    "updated_data.to_csv(filename, index=False, encoding='latin1')\n",
    "\n",
    "print('Done')\n"
   ]
  },
  {
   "cell_type": "code",
   "execution_count": null,
   "id": "f330cca3-e2fa-42fe-bbd2-0b23b8dcf0dc",
   "metadata": {},
   "outputs": [],
   "source": []
  }
 ],
 "metadata": {
  "kernelspec": {
   "display_name": "Python 3 (ipykernel)",
   "language": "python",
   "name": "python3"
  },
  "language_info": {
   "codemirror_mode": {
    "name": "ipython",
    "version": 3
   },
   "file_extension": ".py",
   "mimetype": "text/x-python",
   "name": "python",
   "nbconvert_exporter": "python",
   "pygments_lexer": "ipython3",
   "version": "3.11.8"
  },
  "toc": {
   "base_numbering": 1,
   "nav_menu": {},
   "number_sections": true,
   "sideBar": true,
   "skip_h1_title": false,
   "title_cell": "Table of Contents",
   "title_sidebar": "Contents",
   "toc_cell": false,
   "toc_position": {},
   "toc_section_display": true,
   "toc_window_display": false
  },
  "varInspector": {
   "cols": {
    "lenName": 16,
    "lenType": 16,
    "lenVar": 40
   },
   "kernels_config": {
    "python": {
     "delete_cmd_postfix": "",
     "delete_cmd_prefix": "del ",
     "library": "var_list.py",
     "varRefreshCmd": "print(var_dic_list())"
    },
    "r": {
     "delete_cmd_postfix": ") ",
     "delete_cmd_prefix": "rm(",
     "library": "var_list.r",
     "varRefreshCmd": "cat(var_dic_list()) "
    }
   },
   "types_to_exclude": [
    "module",
    "function",
    "builtin_function_or_method",
    "instance",
    "_Feature"
   ],
   "window_display": false
  }
 },
 "nbformat": 4,
 "nbformat_minor": 5
}
