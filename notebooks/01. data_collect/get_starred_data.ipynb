{
 "cells": [
  {
   "cell_type": "code",
   "execution_count": 1,
   "id": "731b1b61",
   "metadata": {
    "ExecuteTime": {
     "end_time": "2023-06-18T20:30:06.099506Z",
     "start_time": "2023-06-18T20:29:58.384438Z"
    }
   },
   "outputs": [],
   "source": [
    "import os\n",
    "import requests\n",
    "import pandas as pd\n",
    "import numpy as np\n",
    "from tqdm import tqdm\n",
    "from dotenv import load_dotenv\n",
    "from collections import Counter"
   ]
  },
  {
   "cell_type": "code",
   "execution_count": 2,
   "id": "06f68d57",
   "metadata": {},
   "outputs": [
    {
     "data": {
      "text/plain": [
       "True"
      ]
     },
     "execution_count": 2,
     "metadata": {},
     "output_type": "execute_result"
    }
   ],
   "source": [
    "# Load environment variables from .env file\n",
    "load_dotenv()"
   ]
  },
  {
   "cell_type": "code",
   "execution_count": 3,
   "id": "3093aed6",
   "metadata": {
    "ExecuteTime": {
     "end_time": "2023-06-18T20:30:06.324815Z",
     "start_time": "2023-06-18T20:30:06.136447Z"
    }
   },
   "outputs": [],
   "source": [
    "dir_name = os.getenv('DIR_NAME')\n",
    "\n",
    "users_ids = pd.read_csv(f\"../../data/processed/{dir_name}/users_ids.csv\", encoding='latin1')\n",
    "users_ids = users_ids['user_id'].to_list()"
   ]
  },
  {
   "cell_type": "code",
   "execution_count": 4,
   "id": "d2e41706",
   "metadata": {
    "ExecuteTime": {
     "end_time": "2023-06-24T06:54:14.241006Z",
     "start_time": "2023-06-24T06:54:13.664958Z"
    }
   },
   "outputs": [
    {
     "name": "stderr",
     "output_type": "stream",
     "text": [
      "Processing:  77%|███████▋  | 1336/1727 [50:58<07:57,  1.22s/it]  "
     ]
    },
    {
     "name": "stdout",
     "output_type": "stream",
     "text": [
      "Request Error: 404\n"
     ]
    },
    {
     "name": "stderr",
     "output_type": "stream",
     "text": [
      "Processing: 100%|██████████| 1727/1727 [1:01:00<00:00,  2.12s/it]"
     ]
    },
    {
     "name": "stdout",
     "output_type": "stream",
     "text": [
      "final_data: {'user_id': [404506, 705308, 755840, 858200, 943711, 1241552, 1554715, 1572774, 1692858, 2129497, 3595515, 3806576, 3826227, 3955395, 4475142, 4643304, 4716778, 4808798, 5019560, 5045783, 6130991, 6144022, 6535422, 6688438, 6787828, 6823987, 6915391, 6969148, 6995340, 7068535, 7589719, 7609797, 7691358, 7803333, 8029526, 8167004, 8342748, 8362985, 8641905, 8768392, 8783921, 8825214, 8840165, 8881986, 8969075, 8999039, 9043223, 9259308, 9362127, 9496788, 9781670, 9819921, 10023220, 10654641, 10864249, 10880501, 10888023, 10922795, 11079693, 11230500, 11247633, 11255406, 11262620, 11368305, 11584640, 11927641, 11987675, 12021468, 12033296, 12100397, 12243288, 12692919, 12964071, 13021754, 13303659, 13402312, 13482373, 13621066, 13769987, 13836260, 13968552, 13984100, 14114666, 14132620, 14326204, 14907689, 14910228, 15047907, 15192264, 15213215, 15256665, 15413104, 16305023, 16611541, 17209308, 17267747, 17307013, 17637439, 17989477, 18194047, 18216969, 18285082, 18400142, 18415360, 18603314, 18709463, 19210598, 19254270, 19359776, 19366367, 19644754, 19816874, 20244168, 20360517, 20440015, 20488304, 20513587, 20571696, 20599605, 20662186, 20702024, 20819246, 20905674, 21008078, 21173712, 21192973, 21342696, 22245869, 22305507, 22327331, 22341964, 22344536, 22374063, 22597065, 22640209, 22657992, 23185608, 23555833, 23740775, 23740856, 24277044, 24395031, 24415579, 24765887, 24827083, 24903262, 24928542, 24961647, 25220784, 25800161, 25843851, 25931668, 26120352, 26214872, 26558566, 26708649, 26844915, 27642985, 27733133, 27965287, 28258862, 28514526, 28735704, 28783718, 28985401, 29178934, 29462510, 29792912, 29806633, 30077420, 30090160, 30523874, 30528631, 30689866, 31000619, 31217604, 31237771, 31238878, 31242188, 31246918, 31260297, 31282507, 31408474, 31477051, 31759362, 31899027, 31945644, 32058262, 32066945, 32402003, 32514855, 32597978, 32665277, 32770980, 33702490, 33831855, 33861085, 33977992, 34401880, 34800399, 34924212, 35003387, 35046818, 35900188, 36237054, 36265803, 36325257, 36434948, 36505998, 36619381, 36881559, 37243873, 37326584, 37635729, 37686832, 37707479, 38020305, 38070519, 38094400, 38292962, 38326420, 38478347, 38946066, 39172682, 39738870, 39951469, 40000916, 40174805, 40181269, 40224762, 40237204, 40593690, 40625547, 40658328, 41486295, 41967397, 41967811, 42138007, 42249792, 42285178, 42302155, 42326571, 42444957, 42467879, 42480265, 42482463, 42523503, 42549629, 42754835, 43210563, 43370602, 43747467, 43821098, 43821186, 43821712, 43958695, 43994481, 44199686, 44291462, 44292931, 44563964, 44772199, 45265091, 45293066, 45578804, 45792465, 46070272, 46302322, 46322274, 46411490, 46556049, 46570027, 46673118, 47828211, 48277037, 48757536, 48864686, 48907382, 48980408, 49094323, 49195303, 49291509, 49428431, 49757028, 49768748, 49800473, 50014667, 50020723, 50044807, 50153377, 50169396, 50483524, 50568515, 50595168, 50636981, 50657023, 50747027, 51007331, 51121224, 51226601, 51425063, 51825398, 51890460, 51932935, 51958179, 52320920, 52324498, 52411224, 52431348, 52455921, 52500235, 52585849, 52595409, 52595419, 52595445, 52691990, 52712652, 52815019, 52857132, 52931687, 52966432, 53053984, 53153255, 53174794, 53215893, 53312861, 53468037, 53570550, 53784872, 53790917, 53791616, 54008441, 54041357, 54165291, 54271761, 54271987, 54272000, 54272062, 54285917, 54623535, 54830544, 54903338, 55026292, 55235902, 55366277, 55478805, 55548276, 55550145, 55765693, 55844517, 55860970, 55871338, 56188470, 56450813, 56542586, 56685064, 56694801, 56705157, 56709665, 56931285, 56935769, 56992852, 57046729, 57064616, 57067767, 57071122, 57417802, 57590260, 57725103, 57901563, 57982422, 57997464, 58065381, 58298580, 58364586, 58486362, 58696746, 58832119, 59121880, 59767992, 59863398, 59915519, 59961857, 60569881, 60631114, 60866090, 61278473, 61432626, 61561058, 61727729, 61735196, 62499791, 62506418, 62618676, 62674418, 62728029, 62776977, 63150230, 63426852, 63527675, 63618438, 63649156, 63803044, 63875834, 63910629, 63913528, 63976153, 64093066, 64161845, 64174170, 64314311, 64325526, 64354399, 64354602, 64465323, 64646425, 64668677, 64691992, 64875718, 65103987, 65212955, 65242826, 65508138, 65548563, 66148694, 66243493, 66390370, 66472398, 66551006, 66783101, 67241893, 67284022, 67377749, 67378869, 67404275, 67740598, 67766388, 67790866, 67807456, 67931254, 67968674, 67983375, 68120258, 68229913, 68234552, 68255287, 68370709, 68377505, 68445853, 68459412, 68553254, 69589722, 69644296, 69655550, 69784305, 69820794, 69867337, 70128803, 70213038, 70277279, 70918025, 70985406, 71283657, 71399799, 71434398, 71510847, 71522302, 71551874, 71612009, 71687136, 71780731, 71854573, 72145382, 72154018, 72201212, 72214855, 72233494, 72309855, 72340227, 72499602, 72518473, 72521774, 72710131, 72799525, 72815169, 72819474, 72821948, 72823756, 72931424, 73386872, 73468995, 73488484, 73528747, 73537499, 73652124, 73796385, 73997145, 74556942, 74591655, 74727324, 74879760, 75274423, 75278898, 75330000, 75432726, 75454542, 75501289, 75740869, 75936360, 76013172, 76060004, 76119431, 76201386, 76396858, 76516206, 76517786, 76708188, 76938257, 77080274, 77127716, 77356995, 77571208, 77933701, 77936944, 77968389, 77975777, 78048991, 78606977, 78729572, 78730979, 78818106, 78858499, 79196702, 79327825, 79366484, 79388668, 79411877, 79787418, 79858184, 79940003, 80075551, 80112944, 80123646, 80137734, 80226121, 80396703, 80470809, 80492657, 80789474, 80850402, 81576750, 81678247, 81724288, 81755943, 81818589, 81919768, 82066066, 82148347, 82153631, 82161016, 82271481, 82442020, 82827759, 82831720, 83153592, 83244925, 83403248, 83455817, 83553159, 83719160, 83808377, 84017505, 84182866, 84225261, 84314170, 84380815, 84548982, 84616944, 85138573, 85197739, 85250817, 85518166, 85851298, 85911730, 86011531, 86047797, 86053915, 86129738, 86198523, 86366723, 86381944, 86890739, 86908936, 87189308, 87477436, 87478383, 87953252, 88016026, 88153755, 88205826, 88557261, 88653524, 88678823, 88732619, 89344441, 89345427, 89379357, 89402675, 89537405, 89664210, 89780156, 89780712, 89820377, 89900029, 90114095, 90267554, 90420166, 90422313, 90465858, 90636954, 90805554, 90893587, 91061958, 91198554, 91519924, 91666537, 91953966, 91975829, 92016251, 92977776, 93029269, 93037649, 93071845, 93186702, 93434626, 93527357, 93798765, 93864400, 93912102, 94174654, 94529661, 94588285, 94758938, 94769696, 94811573, 95338991, 95491894, 95547177, 95737858, 95749720, 95983990, 96057681, 96112993, 96328449, 96380575, 96472895, 97433363, 97593079, 97907993, 97970232, 98024608, 98264322, 98719122, 99065313, 99265531, 99272123, 99678047, 99757118, 100477326, 100930639, 101146092, 102383390, 102575507, 103176239, 103209710, 103361233, 103423713, 104297128, 104763211, 105211388, 105241871, 105989003, 106206000, 106533679, 107038187, 107197809, 107857536, 107879968, 108019442, 108148355, 108238845, 108406340, 108551667, 109064412, 109345293, 109630558, 110171878, 110357194, 111236268, 111703423, 111966243, 111978180, 112873951, 112904406, 113804714, 114033195, 116520003, 117580376, 117710430, 119706846, 119797490, 121355275, 121378751, 121976617, 122802517, 123736124, 123747730, 124932410, 125027659, 126192030, 127418194, 128046368, 128465540, 128728895, 129966675, 130066304, 130653731, 132569657, 136461003, 139060104, 141511728, 143124692, 145675987, 146567901, 149876997, 150170454, 153447751, 159538875], 'has_moz_owner': [True, True, True, False, True, False, True, True, True, False, False, True, True, True, True, True, True, True, True, True, True, True, True, True, False, True, False, True, False, False, False, False, True, True, True, True, True, True, False, True, True, False, False, False, True, True, False, False, False, False, False, True, False, True, True, True, True, False, True, False, True, True, False, False, True, False, True, True, True, True, False, False, False, True, False, False, True, False, True, True, False, True, False, True, True, True, False, True, True, False, False, False, True, False, False, True, False, True, True, False, True, True, True, True, True, True, True, True, True, False, True, False, False, True, True, True, True, True, True, False, True, True, True, True, True, False, True, True, False, False, True, False, False, True, False, False, True, True, True, True, False, True, False, True, True, False, False, False, True, False, True, True, False, True, False, True, True, True, False, True, True, False, False, False, True, True, True, False, True, False, False, True, False, True, True, True, True, True, True, True, False, False, True, False, False, True, True, True, True, False, True, True, True, False, True, True, True, True, True, True, True, True, True, False, True, False, True, False, True, True, True, True, False, True, False, False, True, True, True, True, True, True, False, False, False, False, False, True, True, True, True, True, False, True, False, True, True, False, False, True, False, False, True, True, True, False, True, True, True, False, True, True, True, False, True, True, False, True, False, True, True, True, True, True, False, False, True, True, True, True, False, False, False, False, False, True, True, True, True, True, True, True, True, True, True, True, False, True, True, True, True, True, True, False, True, True, False, False, True, True, False, False, True, True, True, False, True, False, False, False, False, True, False, True, True, True, True, False, True, False, True, True, False, False, False, True, True, True, True, True, True, False, True, True, True, True, False, True, True, False, True, True, False, False, True, True, True, False, False, True, False, False, True, True, True, False, True, True, False, True, True, True, False, True, False, False, True, True, False, True, False, False, True, True, True, False, True, False, True, True, True, True, True, False, True, True, False, True, True, False, False, True, False, False, True, True, True, False, True, True, False, True, True, True, False, True, False, False, True, True, True, False, False, True, False, False, True, False, True, True, False, True, False, True, True, False, False, True, False, True, True, False, False, False, True, False, True, False, False, True, True, False, True, False, True, True, True, True, False, False, True, True, False, False, True, True, False, True, True, False, False, True, True, True, False, True, True, True, False, True, True, False, True, True, True, False, False, True, True, True, False, False, True, False, True, True, False, True, True, True, False, False, False, True, False, True, True, True, False, True, True, True, True, True, False, True, True, True, True, True, False, False, True, True, True, True, False, True, True, True, False, True, True, True, True, True, True, False, False, True, True, True, False, False, True, False, True, True, False, True, True, True, True, True, True, False, False, True, True, True, True, True, True, True, False, False, True, True, False, True, True, True, True, True, True, True, True, False, True, False, True, False, True, False, True, False, False, False, True, True, False, False, True, True, False, True, False, True, True, True, True, False, False, False, True, True, True, False, False, True, False, False, True, False, True, False, False, True, False, False, True, False, True, True, True, True, True, True, True, False, False, True, False, True, True, True, True, True, False, True, False, True, False, True, True, True, True, True, True, True, True, True, True, True, True, False, False, False, True, False, False, False, True, False, True, True, False, True, True, False, True, True, False, False, True, True, False, False, False, True, True, True, False, True, False, True, True, True, True, False, True, False, True, False, True, False, True, False, True, True, False, True, True, False, True, False, False, True, True, True, True, True, True, False, True, False, False, False, True, True, True, True, True, True, False, False, False, True, False, True, True, True, True, True, True, True, True, False, False, False, False, False, False, False, True, True, False, True], 'fav_lang': ['Ruby', 'PHP', 'PHP', None, 'Ruby', 'Python', 'JavaScript', 'Java', 'PHP', 'TypeScript', 'C', 'JavaScript', None, 'PHP', 'JavaScript', 'JavaScript', 'Java', 'Python', 'JavaScript', 'JavaScript', 'PHP', 'JavaScript', 'Java', 'Groovy', 'PHP', 'Go', None, 'JavaScript', 'TypeScript', 'HTML', 'TypeScript', 'TypeScript', None, 'JavaScript', 'Java', 'PHP', None, None, 'JavaScript', 'Python', 'JavaScript', 'Python', None, 'PHP', 'JavaScript', 'PHP', 'C++', 'HTML', 'Python', 'Python', 'Rust', None, 'JavaScript', 'R', 'PHP', 'TypeScript', 'Python', None, 'PHP', 'Makefile', 'JavaScript', 'Java', 'Swift', 'JavaScript', 'Java', 'Dart', 'JavaScript', 'Go', 'JavaScript', 'JavaScript', 'Java', 'Java', 'Java', 'JavaScript', 'Dart', 'JavaScript', 'JavaScript', None, None, 'Java', 'PHP', 'PHP', 'Shell', 'Python', 'C#', None, 'HTML', 'JavaScript', 'JavaScript', 'PHP', 'TypeScript', 'Java', None, 'Python', 'TypeScript', 'JavaScript', 'PHP', None, 'Java', None, 'Java', 'C#', 'JavaScript', None, None, 'Java', 'PHP', 'TypeScript', 'Kotlin', 'JavaScript', 'Python', 'Dart', 'CSS', 'Dart', None, 'TypeScript', 'TypeScript', 'Java', 'JavaScript', None, 'Java', 'Java', 'JavaScript', 'PHP', 'JavaScript', 'Java', 'TypeScript', 'PHP', 'Swift', 'Python', 'Python', 'TypeScript', 'HTML', 'Java', 'TypeScript', 'Go', 'JavaScript', None, 'JavaScript', None, None, 'Python', 'PHP', 'Java', 'JavaScript', 'TypeScript', 'Java', 'C#', None, None, None, 'PHP', 'C++', 'JavaScript', 'TypeScript', 'C#', 'JavaScript', 'Python', 'JavaScript', 'TypeScript', 'JavaScript', 'Python', 'PHP', 'Python', 'Kotlin', None, 'JavaScript', 'Java', 'JavaScript', 'TypeScript', 'HTML', 'Java', 'JavaScript', None, 'JavaScript', 'Blade', 'JavaScript', 'JavaScript', None, 'JavaScript', None, 'HTML', None, 'Python', 'Python', 'PHP', 'PHP', 'Java', 'Kotlin', 'C#', 'PHP', 'JavaScript', 'Java', 'HTML', None, None, 'JavaScript', 'Python', None, None, 'TypeScript', 'Java', 'JavaScript', 'HTML', 'TypeScript', 'Batchfile', 'HTML', 'Java', 'Java', 'PHP', 'TypeScript', 'Dart', None, 'JavaScript', 'Java', 'Python', 'Kotlin', 'HTML', 'Java', 'HTML', 'Java', 'Dart', 'JavaScript', None, 'TypeScript', 'Java', 'JavaScript', 'Python', 'Java', 'JavaScript', 'JavaScript', 'C', 'JavaScript', 'Dart', 'Python', None, 'JavaScript', 'Vue', 'PHP', 'HTML', 'HTML', None, 'JavaScript', 'Java', 'PHP', 'PHP', 'Java', 'C#', 'PHP', 'Jupyter Notebook', 'Dart', 'JavaScript', 'Dart', 'Go', 'Java', 'Python', 'PHP', 'Dart', 'TypeScript', 'JavaScript', 'Kotlin', 'JavaScript', 'HTML', 'JavaScript', 'QML', 'PHP', 'PHP', None, 'HTML', 'HTML', 'C++', 'C#', 'HTML', 'Java', 'C#', None, None, 'Dart', 'JavaScript', 'TypeScript', 'TypeScript', 'Dart', 'JavaScript', 'TypeScript', 'Python', 'JavaScript', 'Java', None, 'Java', 'Java', 'Java', 'Java', 'JavaScript', 'TypeScript', 'HTML', 'Dart', None, 'JavaScript', 'Java', 'Kotlin', 'CSS', 'Python', 'Java', 'Dart', 'JavaScript', 'TypeScript', 'TypeScript', 'HTML', 'Makefile', 'HTML', 'Astro', None, 'TypeScript', None, None, None, 'Dart', 'PHP', None, 'JavaScript', 'Vue', 'JavaScript', 'TypeScript', 'PHP', 'JavaScript', 'JavaScript', 'JavaScript', 'Java', 'TypeScript', 'HTML', 'Java', 'TypeScript', 'PHP', 'Kotlin', 'JavaScript', 'JavaScript', 'C++', 'TypeScript', None, 'Dart', 'PHP', 'Python', None, 'C++', 'PHP', None, None, 'PHP', 'PHP', None, 'Dart', 'JavaScript', 'JavaScript', 'Dart', 'Java', 'PHP', 'JavaScript', 'Python', 'Java', 'HTML', 'Java', 'HTML', 'Java', None, 'JavaScript', 'Java', 'PHP', 'Python', 'JavaScript', 'JavaScript', None, 'C#', 'TypeScript', None, 'Python', 'Python', 'Go', 'TypeScript', 'Java', 'Java', 'JavaScript', 'Dart', 'JavaScript', 'CSS', 'JavaScript', None, None, 'CSS', None, 'Jupyter Notebook', None, 'HTML', 'Python', 'Python', 'Python', None, 'TypeScript', 'Dart', 'TypeScript', 'Go', None, None, 'HTML', None, 'Jupyter Notebook', None, 'JavaScript', 'Python', 'CSS', 'TypeScript', 'JavaScript', 'Java', 'Go', 'C++', None, 'PHP', None, None, 'JavaScript', 'TypeScript', 'Go', 'TypeScript', 'PHP', 'JavaScript', None, 'Python', 'Shell', 'HTML', 'TypeScript', None, 'JavaScript', 'PHP', None, 'SCSS', 'HTML', 'CSS', 'HTML', 'C#', None, 'Shell', 'JavaScript', None, 'Java', 'Java', 'PHP', 'TypeScript', None, 'Jupyter Notebook', None, 'JavaScript', 'HTML', 'TypeScript', None, 'Java', 'CSS', 'Dart', 'JavaScript', None, 'Java', 'JavaScript', 'Python', 'HTML', 'HTML', 'Java', 'C++', 'TypeScript', 'TypeScript', 'HTML', 'Python', 'Java', None, None, 'HTML', None, 'JavaScript', 'C#', 'JavaScript', 'JavaScript', None, 'Shell', 'Vue', 'PHP', 'Python', 'HTML', 'JavaScript', 'Zig', 'HTML', 'JavaScript', 'JavaScript', None, 'Java', 'JavaScript', 'JavaScript', 'Ruby', 'Jupyter Notebook', 'JavaScript', None, 'Python', 'Dart', None, 'Python', 'JavaScript', None, None, 'PHP', 'Python', 'PHP', 'JavaScript', 'Dart', 'TypeScript', 'Java', 'Dart', 'JavaScript', 'JavaScript', None, 'Python', 'HTML', 'TypeScript', 'Java', None, None, 'JavaScript', None, 'CSS', None, 'JavaScript', 'PHP', None, 'Java', 'Python', 'HTML', 'CSS', 'JavaScript', 'Python', 'PHP', 'CSS', None, 'TypeScript', None, 'JavaScript', None, 'C++', 'HTML', 'HTML', 'Java', 'Python', 'JavaScript', 'Go', 'TypeScript', None, 'CSS', 'JavaScript', 'Java', 'JavaScript', 'JavaScript', 'JavaScript', 'Java', None, 'Blade', 'Java', 'JavaScript', 'JavaScript', 'Python', 'JavaScript', 'JavaScript', 'Java', 'TypeScript', 'TypeScript', 'Python', None, None, 'HTML', None, 'CSS', 'HTML', 'Solidity', 'Java', 'JavaScript', 'PHP', 'Java', 'Dart', None, None, 'Java', 'PHP', 'C', 'Python', 'JavaScript', 'JavaScript', None, 'PHP', None, 'JavaScript', 'HTML', 'Java', 'Java', 'HTML', 'JavaScript', 'Java', None, 'C', None, 'Java', None, None, 'Jupyter Notebook', 'PHP', 'Java', None, None, 'Java', 'PHP', 'HTML', 'Java', 'Java', 'HTML', 'HTML', 'Java', None, 'Java', None, 'Java', 'JavaScript', 'PHP', None, None, None, 'JavaScript', None, 'JavaScript', 'HTML', 'PHP', 'Java', None, 'Jupyter Notebook', None, 'Python', 'HTML', 'JavaScript', 'Swift', 'Java', None, None, None, 'TypeScript', None, 'JavaScript', None, 'Dart', 'PHP', 'JavaScript', None, 'JavaScript', 'JavaScript', 'HTML', 'JavaScript', 'TypeScript', 'JavaScript', None, 'Svelte', 'Java', 'Java', None, 'JavaScript', 'JavaScript', 'Java', 'Java', None, 'JavaScript', 'TypeScript', 'JavaScript', 'C', None, 'Java', 'PHP', 'Kotlin', 'CSS', 'Java', 'TypeScript', 'TypeScript', 'JavaScript', 'TypeScript', 'JavaScript', 'Java', 'Jupyter Notebook', 'HTML', None, None, 'JavaScript', None, None, 'CSS', 'Dart', 'JavaScript', None, 'Java', 'TypeScript', 'TypeScript', 'JavaScript', 'HTML', None, 'HTML', 'HTML', None, 'Java', 'Jupyter Notebook', None, 'Python', 'Java', None, 'HTML', None, 'HTML', 'Java', 'Java', 'JavaScript', 'HTML', 'JavaScript', 'Python', 'CSS', 'Python', 'HTML', 'TypeScript', 'HTML', 'CSS', 'Java', 'JavaScript', 'HTML', 'HTML', 'C', 'EJS', 'JavaScript', 'PHP', 'Python', None, 'CSS', 'HTML', 'HTML'], 'fav_topic': ['accordion', 'php', 'php', 'git', None, None, 'machine-learning', None, 'php', 'typescript', 'css', 'javascript', 'cms', 'alibaba', 'react', 'nodejs', None, 'python', 'javascript', 'android', 'hacktoberfest', 'machine-learning', None, 'demographics', 'application-wrapper', 'kubernetes', 'careers', 'api', 'react-native', 'careers', 'vue', 'careers', 'dart', 'browser', 'synced-settings', 'php', 'java', None, '30daysofjavascript', None, 'javascript', 'esmf', 'javascript', 'docker', 'mpesa', 'php', 'command-line', 'accordion', 'css', 'hacktoberfest', None, 'compiler', 'bypass', 'r', 'laravel', 'typescript', 'bpmn', 'hacking', 'api', 'climate', 'javascript', 'android', 'swift', 'css', 'java', 'flutter', 'javascript', 'hacktoberfest', 'css-questions', 'javascript', 'android', None, 'java', 'hacktoberfest', 'android', 'mozambique', 'android', 'awesome-list', 'hacktoberfest', 'android', 'laravel', 'hacktoberfest', 'docker', None, 'dotnet', None, None, 'bootstrap', None, None, 'ai-art', 'uber-clone', 'javascript', 'cisco', 'careers', 'education', 'framework', 'javascript', 'gamification', None, 'hacktoberfest', 'hacktoberfest', 'javascript', 'javascript', 'hacktoberfest', 'java', 'api', 'golang', 'android', 'react', 'php', 'android', 'animation', 'e-commerce', 'javascript', 'laravel', 'javascript', 'java', 'javascript', 'google-cloud', 'java', None, 'laravel', 'wordpress', 'dicebear', 'framework', 'typescript', 'laravel', None, 'awesome-list', 'python', 'careers', 'apps', None, 'angular', 'javascript', 'vue', 'cordova', 'javascript', 'hacktoberfest', 'dataset', 'python', None, None, 'nextjs', 'careers', 'careers', 'create', None, 'books', 'hacktoberfest', 'data-science', 'careers', 'react', 'careers', 'asp-net-core', 'javascript', 'python', 'javascript', 'hacktoberfest', None, 'python', 'laravel', 'javascript', 'kotlin', None, None, None, 'next14', None, None, 'css3', 'atom', 'bootstrap', None, 'composer', 'application-realtime', 'python', 'react', 'javascript', 'hacktoberfest', 'boostrap', 'blog-engine', 'machine-learning', None, None, 'laravel', 'android', 'android', None, 'mpesa', None, None, 'django', 'hacktoberfest', 'best-of', 'javascript', 'python', None, 'config', 'hacktoberfest', 'android', 'blockchain', None, 'hacktoberfest', 'activator', 'css', None, 'android', 'mpesa', 'css', 'flutter', 'animation', 'javascript', 'hacktoberfest', 'api', 'android', 'gratuito', None, 'bootstrap', None, 'aplicativo', 'hacktoberfest', 'tutorials', None, None, 'hacktoberfest', 'discord', 'java', 'hacktoberfest', 'javascript', 'bios', 'css', 'dart', 'angular', 'msisdn-validate', 'laravel', 'vue', None, 'bootstrap', 'material', 'api', 'javascript', 'java', 'api', None, None, None, 'vue', 'bootstrap4', 'flutter', 'nodejs', 'kotlin', 'cli', 'javascript', 'django', 'laravel', None, 'windows', 'react', 'android', 'react', None, 'express', 'react', None, 'cyber-security', None, 'lists', 'airbnb', 'nodejs', 'c-sharp', 'calculator', None, 'c-sharp', 'nlw-06', 'react', 'flutter', 'android', 'expo', 'javascript', 'flutter', 'algorithm', 'formatter', 'python', 'hacktoberfest', None, 'design-system', None, None, None, None, 'css', 'drag-and-drop', 'api', 'awesome-list', 'github', 'javascript', None, 'javascript', 'educational', 'blue-team', None, 'flutter', 'android', 'nodejs', 'api', 'html', 'busybox', 'data-science', 'admin', 'security', 'best', None, None, None, 'flutter', 'laravel', 'data-analysis', 'react', None, 'authentication', 'framework', 'database', 'fullpage', 'react', 'vue', 'adminlte3', 'docker', None, 'android', 'leave-management-system', 'javascript', 'kotlin', 'synced-settings', None, None, 'vim', 'config', None, 'php', 'python', 'css', 'cheat-fortnite-', 'challenge', 'hacktoberfest', None, 'php', 'imersao-java', 'awesome', 'flutter', 'hacktoberfest', 'hacktoberfest', 'desktop', None, None, 'python', 'github', 'java', 'codeinthedark', 'opengl', 'blockchain', 'spring-boot', 'mpesa', 'aws', 'java', 'laravel', 'machine-learning', 'css', 'react', None, 'blazor', 'javascript', 'betty', 'hacktoberfest', 'awesome', 'fga', 'components', 'hacktoberfest', 'java', 'mozambique', 'flutter', 'github', None, 'android', None, None, 'css3', 'javascript', None, 'war-thunder-aimbot', None, None, 'aix', 'security', 'openai-api', 'nodejs', None, 'typescript', 'awesome-react-stuff', None, 'ai', 'javascript', None, 'datascience', 'hacktoberfest', None, 'django', 'framework', 'security', 'codeinthedark', None, '2d', 'c', 'hacktoberfest', None, None, 'best-practices', None, 'react', 'go', 'e2payments', 'laravel', 'react', 'javascript', 'html', 'macos', None, 'typescript', 'javascript', 'hacktoberfest', 'laravel', 'applications', 'css', None, None, 'adminlte', 'create', 'admin', 'linux', 'react', 'guidelines', 'java', None, None, 'mpesa', 'exploitation', None, 'git', None, None, 'bash', 'books', None, 'advent-of-code', None, 'final-space', 'awesome-list', None, None, None, 'config', None, 'download-manager', 'cpp', None, 'javascript', None, 'curso-em-video', 'hacktoberfest', 'css', 'ruby', None, 'git', None, 'book', 'expo', 'react', 'calculations', None, 'vuejs', None, None, 'coding-in-community', 'nodejs', 'bun', 'curso', 'react', 'react', 'android', None, 'animated', 'canvas', None, 'binary', 'react-native', 'javascript', 'python', 'api', 'hacktoberfest', 'deep-learning', 'typescript', 'config', None, None, None, 'face-detection', 'machine-learning', 'hacktoberfest', 'd3js', 'annotations', 'android', 'books', 'javascript', 'api', 'javascript', None, 'education', 'boostrap', 'hacktoberfest', None, 'javascript', 'api', None, None, 'awesome-list', 'php', 'awesome', None, 'django', 'react', 'brands', 'gis', 'css3', 'laravel', None, 'cheat-sheet', 'typescript', 'algorithm', 'java', 'php', None, 'javascript', None, None, 'api', 'portfolio-site', 'hacktoberfest', None, 'community', 'react', None, 'javascript', 'java', 'begginers', None, None, 'config', 'advance-ecommerce-project', 'collaborate', 'php', 'config', 'hacktoberfest', 'javascript', 'react', 'collaborate', 'android', 'automation', 'python', 'github', 'hacktoberfest', 'curso', None, None, 'capture', 'git', None, 'responsive-website', None, None, 'flutter', 'aws', None, None, None, None, 'awesome', 'python', 'typescript', 'hacktoberfest', 'config', 'awesome-list', None, 'css3', None, None, 'bootstrap4', None, 'java', 'javascript', 'editor', 'config', None, 'hacktoberfest', 'hacktoberfest', 'cartography', 'excel', 'android', 'javascript', None, 'java17', 'attachment', None, 'crud', None, 'bootstrap5', 'portfolio', None, None, None, 'tutorial', None, 'recognition', None, 'python', None, None, 'osint', 'appsec', 'javascript', 'animations', 'desktop', None, 'config', 'data-science', None, 'amazon', None, 'javascript', 'ios', None, 'javascript', 'animations', 'hacktoberfest', 'typescript', 'intern', 'typescript', 'awesome', None, 'deploy', 'javascript', 'game-development', 'javascript', 'aws-ses', 'javascript', 'artificial-intelligence', 'hacktoberfest', None, 'beginner-project', 'component', None, 'hacktoberfest', None, 'component', 'javascript', 'brasil', None, 'hacktoberfest', 'adhan', 'nodejs', 'css', 'github', None, 'projetos-em-java', None, 'declarative', None, 'hacktoberfest', 'react', None, 'game', 'cheat-sheet', None, 'dio', 'design-system', 'maintenance-page', 'android', 'brute-force', None, None, 'css3', None, 'dart', 'awesome-list', None, 'hacktoberfest', 'chat', 'agnus', 'hacktoberfest', 'gustavoguanabara', None, None, None, None, None, 'ai', 'angular-roadmap', None, 'java', None, 'e2payments', 'algorithms', 'rocketseat', 'reactjs', 'android', 'sms', 'curso', 'mozambique', 'github', None, None, None, 'android', None, 'html-css', None, 'books', None, 'curso', None, None, None, None, 'javascript', 'config', 'config', 'curso', None]}\n"
     ]
    },
    {
     "name": "stderr",
     "output_type": "stream",
     "text": [
      "\n"
     ]
    }
   ],
   "source": [
    "def get_repositories_data(user_ids):\n",
    "    \"\"\"\n",
    "    Retrieves repositories data for a given list of user IDs.\n",
    "\n",
    "    Parameters:\n",
    "    - user_ids (list): List of user IDs.\n",
    "\n",
    "    Returns:\n",
    "    - repositories (dict): Dictionary containing repositories data.\n",
    "        - 'user_id' (list): List of user IDs.\n",
    "        - 'has_moz_owner' (list): List indicating whether a repository has a Mozilla owner.\n",
    "        - 'fav_lang' (list): List of favorite programming languages for each user.\n",
    "        - 'fav_topic' (list): List of favorite topics for each user.\n",
    "    \"\"\"\n",
    "    \n",
    "    token = os.getenv('GITHUB_TOKEN')\n",
    "    headers = {'Authorization': f'Token {token}', 'Accept': 'application/vnd.github.v3+json'}\n",
    "    \n",
    "    params = {\n",
    "        'per_page': 100,  # Number of items per page\n",
    "        'page': 1,  # Initial page\n",
    "    }\n",
    "\n",
    "    repositories = {\n",
    "        'user_id': [],\n",
    "        'has_moz_owner': [],\n",
    "        'fav_lang': [],\n",
    "        'fav_topic': [],\n",
    "    }\n",
    "    \n",
    "    owner_ids = []\n",
    "    languages = []\n",
    "    topics = []\n",
    "\n",
    "    total_id_list = len(users_ids)\n",
    "    progress_bar = tqdm(total=total_id_list, desc=\"Processing\") # Create a tqdm instance\n",
    "\n",
    "    for user_id in user_ids:\n",
    "        \n",
    "        url = f\"https://api.github.com/user/{user_id}/starred\"\n",
    "        \n",
    "        while True:\n",
    "\n",
    "            response = requests.get(url, headers=headers, params=params, timeout=600)\n",
    "            # use \"timeout=600\" to prevent \"RemoteDisconnected\" error\n",
    "\n",
    "            if response.status_code == 200:\n",
    "\n",
    "                data = response.json()\n",
    "                \n",
    "                if len(data) > 0 :\n",
    "                    \n",
    "                    for repo in data:\n",
    "\n",
    "                        owner_ids.append(repo['owner']['id'])\n",
    "                        languages.append(repo['language'])\n",
    "\n",
    "                        for topic in repo['topics']:\n",
    "                            topics.append(topic)\n",
    "\n",
    "                    if 'next' in response.links:\n",
    "                        url = response.links['next']['url'] \n",
    "                        params = {}\n",
    "                        \n",
    "                    else:\n",
    "                        repositories['user_id'].append(user_id)\n",
    "                        repositories['has_moz_owner'].append(np.intersect1d(np.array(owner_ids), np.array(user_ids)).size > 0) \n",
    "                        \n",
    "                        if len(languages) > 0:\n",
    "                            repositories['fav_lang'].append(Counter(languages).most_common(1)[0][0])\n",
    "                        else:\n",
    "                            repositories['fav_lang'].append(None)\n",
    "                        \n",
    "                        if len(topics) > 0:\n",
    "                            repositories['fav_topic'].append(Counter(topics).most_common(1)[0][0])\n",
    "                        else:\n",
    "                            repositories['fav_topic'].append(None)\n",
    "\n",
    "                        owner_ids = []\n",
    "                        languages = []\n",
    "                        topics = []\n",
    "\n",
    "                        break\n",
    "                else: \n",
    "                    break\n",
    "                        \n",
    "            else:\n",
    "                print('Request Error:', response.status_code)\n",
    "                break\n",
    "                \n",
    "        progress_bar.update(1)     # Update the progress bar\n",
    "    \n",
    "    progress_bar.close() # Close the progress bar\n",
    "    return repositories\n",
    "\n",
    "\n",
    "# Example usage\n",
    "final_data = get_repositories_data(users_ids)\n",
    "print(f'final_data: {final_data}')\n"
   ]
  },
  {
   "cell_type": "code",
   "execution_count": 5,
   "id": "775ada8b",
   "metadata": {},
   "outputs": [],
   "source": [
    "users_data = pd.DataFrame(final_data)\n",
    "users_data.to_csv(f\"../../data/processed/{dir_name}/starred.csv\", index=False, encoding='latin1')"
   ]
  },
  {
   "cell_type": "code",
   "execution_count": null,
   "id": "13b1d636-6b7b-4459-9b1f-1bd0f5724901",
   "metadata": {},
   "outputs": [],
   "source": []
  }
 ],
 "metadata": {
  "kernelspec": {
   "display_name": "Python 3 (ipykernel)",
   "language": "python",
   "name": "python3"
  },
  "language_info": {
   "codemirror_mode": {
    "name": "ipython",
    "version": 3
   },
   "file_extension": ".py",
   "mimetype": "text/x-python",
   "name": "python",
   "nbconvert_exporter": "python",
   "pygments_lexer": "ipython3",
   "version": "3.11.5"
  },
  "toc": {
   "base_numbering": 1,
   "nav_menu": {},
   "number_sections": true,
   "sideBar": true,
   "skip_h1_title": false,
   "title_cell": "Table of Contents",
   "title_sidebar": "Contents",
   "toc_cell": false,
   "toc_position": {},
   "toc_section_display": true,
   "toc_window_display": false
  },
  "varInspector": {
   "cols": {
    "lenName": 16,
    "lenType": 16,
    "lenVar": 40
   },
   "kernels_config": {
    "python": {
     "delete_cmd_postfix": "",
     "delete_cmd_prefix": "del ",
     "library": "var_list.py",
     "varRefreshCmd": "print(var_dic_list())"
    },
    "r": {
     "delete_cmd_postfix": ") ",
     "delete_cmd_prefix": "rm(",
     "library": "var_list.r",
     "varRefreshCmd": "cat(var_dic_list()) "
    }
   },
   "types_to_exclude": [
    "module",
    "function",
    "builtin_function_or_method",
    "instance",
    "_Feature"
   ],
   "window_display": false
  }
 },
 "nbformat": 4,
 "nbformat_minor": 5
}
