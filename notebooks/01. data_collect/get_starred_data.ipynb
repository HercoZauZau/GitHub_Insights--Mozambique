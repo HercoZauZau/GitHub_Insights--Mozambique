{
 "cells": [
  {
   "cell_type": "code",
   "execution_count": 2,
   "id": "731b1b61",
   "metadata": {
    "ExecuteTime": {
     "end_time": "2023-06-18T20:30:06.099506Z",
     "start_time": "2023-06-18T20:29:58.384438Z"
    }
   },
   "outputs": [],
   "source": [
    "import os\n",
    "import requests\n",
    "import pandas as pd\n",
    "import numpy as np\n",
    "from dotenv import load_dotenv\n",
    "from collections import Counter"
   ]
  },
  {
   "cell_type": "code",
   "execution_count": null,
   "id": "06f68d57",
   "metadata": {},
   "outputs": [],
   "source": [
    "# Load environment variables from .env file\n",
    "load_dotenv()"
   ]
  },
  {
   "cell_type": "code",
   "execution_count": 3,
   "id": "3093aed6",
   "metadata": {
    "ExecuteTime": {
     "end_time": "2023-06-18T20:30:06.324815Z",
     "start_time": "2023-06-18T20:30:06.136447Z"
    }
   },
   "outputs": [],
   "source": [
    "users_ids = pd.read_csv(\"../../data/processed/users_ids.csv\", encoding='latin1')\n",
    "users_ids = users_ids['id_usuario'].to_list()"
   ]
  },
  {
   "cell_type": "code",
   "execution_count": 1,
   "id": "d2e41706",
   "metadata": {
    "ExecuteTime": {
     "end_time": "2023-06-24T06:54:14.241006Z",
     "start_time": "2023-06-24T06:54:13.664958Z"
    }
   },
   "outputs": [],
   "source": [
    "def get_repositories_data(user_ids):\n",
    "    \"\"\"\n",
    "    Retrieves repositories data for a given list of user IDs.\n",
    "\n",
    "    Parameters:\n",
    "    - user_ids (list): List of user IDs.\n",
    "\n",
    "    Returns:\n",
    "    - repositories (dict): Dictionary containing repositories data.\n",
    "        - 'user_id' (list): List of user IDs.\n",
    "        - 'has_moz_owner' (list): List indicating whether a repository has a Mozilla owner.\n",
    "        - 'fav_lang' (list): List of favorite programming languages for each user.\n",
    "        - 'fav_topic' (list): List of favorite topics for each user.\n",
    "    \"\"\"\n",
    "    \n",
    "    token = os.getenv('GITHUB_TOKEN')\n",
    "    headers = {'Authorization': f'Token {token}', 'Accept': 'application/vnd.github.v3+json'}\n",
    "    \n",
    "    params = {\n",
    "        'per_page': 100,  # Number of items per page\n",
    "        'page': 1,  # Initial page\n",
    "    }\n",
    "\n",
    "    repositories = {\n",
    "        'user_id': [],\n",
    "        'has_moz_owner': [],\n",
    "        'fav_lang': [],\n",
    "        'fav_topic': [],\n",
    "    }\n",
    "    \n",
    "    owner_ids = []\n",
    "    languages = []\n",
    "    topics = []\n",
    "\n",
    "    for user_id in user_ids:\n",
    "        \n",
    "        url = f\"https://api.github.com/user/{user_id}/starred\"\n",
    "        \n",
    "        while True:\n",
    "\n",
    "            response = requests.get(url, headers=headers, params=params)\n",
    "\n",
    "            if response.status_code == 200:\n",
    "\n",
    "                data = response.json()\n",
    "                \n",
    "                if len(data) > 0 :\n",
    "                    \n",
    "                    for repo in data:\n",
    "\n",
    "                        owner_ids.append(repo['owner']['id'])\n",
    "                        languages.append(repo['language'])\n",
    "\n",
    "                        for topic in repo['topics']:\n",
    "                            topics.append(topic)\n",
    "\n",
    "                    if 'next' in response.links:\n",
    "                        url = response.links['next']['url'] \n",
    "                        params = {}\n",
    "                        \n",
    "                    else:\n",
    "                        repositories['user_id'].append(user_id)\n",
    "                        repositories['has_moz_owner'].append(np.intersect1d(np.array(owner_ids), np.array(user_ids)).size > 0) \n",
    "                        \n",
    "                        if len(languages) > 0:\n",
    "                            repositories['fav_lang'].append(Counter(languages).most_common(1)[0][0])\n",
    "                        else:\n",
    "                            repositories['fav_lang'].append(None)\n",
    "                        \n",
    "                        if len(topics) > 0:\n",
    "                            repositories['fav_topic'].append(Counter(topics).most_common(1)[0][0])\n",
    "                        else:\n",
    "                            repositories['fav_topic'].append(None)\n",
    "\n",
    "                        owner_ids = []\n",
    "                        languages = []\n",
    "                        topics = []\n",
    "\n",
    "                        break\n",
    "                else: \n",
    "                    break\n",
    "                        \n",
    "            else:\n",
    "                print('Request Error:', response.status_code)\n",
    "                break\n",
    "\n",
    "    return repositories\n",
    "\n",
    "\n",
    "# Example usage\n",
    "final_data = get_repositories_data(user_ids)\n",
    "\n",
    "users_data = pd.DataFrame(final_data)\n",
    "users_data.to_csv(\"../../data/processed/starred.csv\", index=False, encoding='latin1')\n",
    "\n",
    "print(f'final_data: {final_data}')\n"
   ]
  },
  {
   "cell_type": "code",
   "execution_count": null,
   "id": "775ada8b",
   "metadata": {},
   "outputs": [],
   "source": []
  }
 ],
 "metadata": {
  "kernelspec": {
   "display_name": "Python 3 (ipykernel)",
   "language": "python",
   "name": "python3"
  },
  "language_info": {
   "codemirror_mode": {
    "name": "ipython",
    "version": 3
   },
   "file_extension": ".py",
   "mimetype": "text/x-python",
   "name": "python",
   "nbconvert_exporter": "python",
   "pygments_lexer": "ipython3",
   "version": "3.10.11"
  },
  "toc": {
   "base_numbering": 1,
   "nav_menu": {},
   "number_sections": true,
   "sideBar": true,
   "skip_h1_title": false,
   "title_cell": "Table of Contents",
   "title_sidebar": "Contents",
   "toc_cell": false,
   "toc_position": {},
   "toc_section_display": true,
   "toc_window_display": false
  },
  "varInspector": {
   "cols": {
    "lenName": 16,
    "lenType": 16,
    "lenVar": 40
   },
   "kernels_config": {
    "python": {
     "delete_cmd_postfix": "",
     "delete_cmd_prefix": "del ",
     "library": "var_list.py",
     "varRefreshCmd": "print(var_dic_list())"
    },
    "r": {
     "delete_cmd_postfix": ") ",
     "delete_cmd_prefix": "rm(",
     "library": "var_list.r",
     "varRefreshCmd": "cat(var_dic_list()) "
    }
   },
   "types_to_exclude": [
    "module",
    "function",
    "builtin_function_or_method",
    "instance",
    "_Feature"
   ],
   "window_display": false
  }
 },
 "nbformat": 4,
 "nbformat_minor": 5
}
