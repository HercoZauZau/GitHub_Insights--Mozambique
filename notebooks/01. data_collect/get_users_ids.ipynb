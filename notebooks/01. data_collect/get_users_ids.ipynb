{
 "cells": [
  {
   "cell_type": "code",
   "execution_count": 1,
   "id": "ac01f8a3",
   "metadata": {
    "ExecuteTime": {
     "end_time": "2023-06-19T10:36:11.801645Z",
     "start_time": "2023-06-19T10:36:11.107307Z"
    }
   },
   "outputs": [],
   "source": [
    "import os\n",
    "import csv\n",
    "import requests\n",
    "from dotenv import load_dotenv"
   ]
  },
  {
   "cell_type": "code",
   "execution_count": 2,
   "id": "3585d531",
   "metadata": {},
   "outputs": [
    {
     "data": {
      "text/plain": [
       "True"
      ]
     },
     "execution_count": 2,
     "metadata": {},
     "output_type": "execute_result"
    }
   ],
   "source": [
    "# Load environment variables from .env file\n",
    "load_dotenv()"
   ]
  },
  {
   "cell_type": "code",
   "execution_count": 3,
   "id": "329a3f71",
   "metadata": {},
   "outputs": [
    {
     "name": "stdout",
     "output_type": "stream",
     "text": [
      "Mozambique: 1406\n",
      "Moçambique: 256\n",
      "Mocambique: 44\n",
      "Maputo: 1065\n",
      "Matola: 64\n"
     ]
    }
   ],
   "source": [
    "def get_total_users_by_location(locations):\n",
    "    \"\"\"\n",
    "    Retrieves the total number of users on GitHub for each specified location.\n",
    "    \n",
    "    Args:\n",
    "        locations (list): List of locations to retrieve user counts for.\n",
    "        \n",
    "    Returns:\n",
    "        list: List of dictionaries, where each dictionary contains the total user count and the corresponding location.\n",
    "    \"\"\"\n",
    "        \n",
    "    users_by_location = []\n",
    "\n",
    "    for location in locations:\n",
    "        url = f'https://api.github.com/search/users?q=location:{location}'\n",
    "        headers = {'Accept': 'application/vnd.github.v3+json'}\n",
    "        response = requests.get(url, headers=headers)\n",
    "\n",
    "        if response.status_code == 200:\n",
    "            total_count = response.json().get('total_count')\n",
    "            users_by_location.append({'total_users': total_count, 'location': location})\n",
    "        else:\n",
    "            print(f'Location request error \"{location}\": {response.status_code}')\n",
    "\n",
    "    return users_by_location\n",
    "\n",
    "# List of locations to retrieve user counts for\n",
    "locations = [\n",
    "    'Mozambique', \n",
    "    'Moçambique', \n",
    "    'Mocambique', \n",
    "    'Maputo', \n",
    "    'Matola',\n",
    "#     'Inhambane', \n",
    "#     'Manica',\n",
    "#     'Sofala',\n",
    "#     'Tete',\n",
    "#     'Zambezia',\n",
    "#     'Nampula',\n",
    "#     'Niassa',\n",
    "#     'Cabo Delgado'\n",
    "]\n",
    "\n",
    "results = get_total_users_by_location(locations)\n",
    "\n",
    "# Display the results\n",
    "for result in results:\n",
    "    print(f\"{result['location']}: {result['total_users']}\")\n"
   ]
  },
  {
   "cell_type": "code",
   "execution_count": 4,
   "id": "6c9d42b0",
   "metadata": {},
   "outputs": [],
   "source": [
    "def get_users_ids_by_location(location):\n",
    "    \"\"\"\n",
    "    Retrieve user IDs from GitHub API based on location.\n",
    "    \n",
    "    Args:\n",
    "        location (str): Location of the users to search for.\n",
    "    \n",
    "    Returns:\n",
    "        list: List of user IDs found.\n",
    "    \"\"\"\n",
    "        \n",
    "    url = f\"https://api.github.com/search/users?q=location:{location}\"\n",
    "    token = os.getenv('GITHUB_TOKEN')\n",
    "    headers = {'Authorization': f'Token {token}', 'Accept': 'application/vnd.github.v3+json'}\n",
    "\n",
    "    params = {\n",
    "        'per_page': 100,  # Number of items per page\n",
    "        'page': 1,  # Initial page\n",
    "        'order': 'asc',\n",
    "        'sort': 'joined',\n",
    "    }\n",
    "\n",
    "    user_ids = []\n",
    "\n",
    "    while True:\n",
    "        response = requests.get(url, headers=headers, params=params)\n",
    "\n",
    "        if response.status_code == 200:\n",
    "            data = response.json()\n",
    "            users = data[\"items\"]\n",
    "            user_ids.extend([user[\"id\"] for user in users])\n",
    "\n",
    "            if 'next' in response.links:\n",
    "                url = response.links['next']['url']  # Next page of results\n",
    "                params = {}  # No longer need the page parameters\n",
    "            else:\n",
    "                break\n",
    "        else:\n",
    "            print('Request Error:', response.status_code)\n",
    "            break\n",
    "\n",
    "    return user_ids\n"
   ]
  },
  {
   "cell_type": "code",
   "execution_count": 5,
   "id": "95cdb160",
   "metadata": {
    "ExecuteTime": {
     "end_time": "2023-06-22T17:04:49.888541Z",
     "start_time": "2023-06-22T17:04:49.873906Z"
    }
   },
   "outputs": [],
   "source": [
    "def write_csv(ids, file_name):\n",
    "    \"\"\"\n",
    "    Write a list of IDs to a CSV file.\n",
    "\n",
    "    Args:\n",
    "        ids (list): List of IDs to be written to the CSV file.\n",
    "        file_name (str): Name of the CSV file to be created or overwritten.\n",
    "\n",
    "    Returns:\n",
    "        None\n",
    "    \"\"\"\n",
    "\n",
    "    data = [{'id': num} for num in ids]\n",
    "\n",
    "    # Column names for the CSV file\n",
    "    fields = ['id']\n",
    "\n",
    "    # Write the data to the CSV file\n",
    "    with open(file_name, 'w', newline='') as csv_file:\n",
    "        writer = csv.DictWriter(csv_file, fieldnames=fields)\n",
    "        writer.writeheader()  # Write the column names to the file\n",
    "        writer.writerows(data)  # Write the data to the file\n",
    "\n",
    "    print(f'The IDs were successfully written to the file {file_name}!')\n"
   ]
  },
  {
   "cell_type": "code",
   "execution_count": 7,
   "id": "53ebd458-ef4a-451d-b34a-0c2280f3dec1",
   "metadata": {},
   "outputs": [
    {
     "name": "stdout",
     "output_type": "stream",
     "text": [
      "The IDs were successfully written to the file ../../data/raw/2024_05/mozambique.csv!\n",
      "The IDs were successfully written to the file ../../data/raw/2024_05/moçambique.csv!\n",
      "The IDs were successfully written to the file ../../data/raw/2024_05/mocambique.csv!\n",
      "The IDs were successfully written to the file ../../data/raw/2024_05/maputo.csv!\n",
      "The IDs were successfully written to the file ../../data/raw/2024_05/matola.csv!\n"
     ]
    }
   ],
   "source": [
    "dir_name = os.getenv('DIR_NAME')\n",
    "base_path = f'../../data/raw/{dir_name}'\n",
    "\n",
    "os.makedirs(base_path, exist_ok=True)\n",
    "\n",
    "for loc in locations:\n",
    "    final_data = get_users_ids_by_location(loc)  \n",
    "\n",
    "    file_name = f'{base_path}/{loc.lower()}.csv'\n",
    "    \n",
    "    write_csv(final_data, file_name)\n"
   ]
  },
  {
   "cell_type": "code",
   "execution_count": null,
   "id": "be78e04b-294f-49dc-af3c-9ffb2c2e31b2",
   "metadata": {},
   "outputs": [],
   "source": []
  }
 ],
 "metadata": {
  "kernelspec": {
   "display_name": "Python 3 (ipykernel)",
   "language": "python",
   "name": "python3"
  },
  "language_info": {
   "codemirror_mode": {
    "name": "ipython",
    "version": 3
   },
   "file_extension": ".py",
   "mimetype": "text/x-python",
   "name": "python",
   "nbconvert_exporter": "python",
   "pygments_lexer": "ipython3",
   "version": "3.11.8"
  },
  "toc": {
   "base_numbering": 1,
   "nav_menu": {},
   "number_sections": true,
   "sideBar": true,
   "skip_h1_title": false,
   "title_cell": "Table of Contents",
   "title_sidebar": "Contents",
   "toc_cell": false,
   "toc_position": {},
   "toc_section_display": true,
   "toc_window_display": false
  },
  "varInspector": {
   "cols": {
    "lenName": 16,
    "lenType": 16,
    "lenVar": 40
   },
   "kernels_config": {
    "python": {
     "delete_cmd_postfix": "",
     "delete_cmd_prefix": "del ",
     "library": "var_list.py",
     "varRefreshCmd": "print(var_dic_list())"
    },
    "r": {
     "delete_cmd_postfix": ") ",
     "delete_cmd_prefix": "rm(",
     "library": "var_list.r",
     "varRefreshCmd": "cat(var_dic_list()) "
    }
   },
   "types_to_exclude": [
    "module",
    "function",
    "builtin_function_or_method",
    "instance",
    "_Feature"
   ],
   "window_display": false
  }
 },
 "nbformat": 4,
 "nbformat_minor": 5
}
