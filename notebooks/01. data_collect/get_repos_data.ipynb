{
 "cells": [
  {
   "cell_type": "code",
   "execution_count": 1,
   "id": "731b1b61",
   "metadata": {
    "ExecuteTime": {
     "end_time": "2023-06-16T23:35:14.764738Z",
     "start_time": "2023-06-16T23:35:14.748792Z"
    }
   },
   "outputs": [],
   "source": [
    "import os\n",
    "import requests\n",
    "import pandas as pd\n",
    "from dotenv import load_dotenv\n",
    "from datetime import datetime\n",
    "from tqdm import tqdm"
   ]
  },
  {
   "cell_type": "code",
   "execution_count": 2,
   "id": "3cad27e9",
   "metadata": {},
   "outputs": [],
   "source": [
    "# Load environment variables from .env file\n",
    "load_dotenv()\n",
    "\n",
    "dir_name = os.getenv('DIR_NAME')\n",
    "base_path = f'../../data/processed/{dir_name}'\n",
    "os.makedirs(base_path, exist_ok=True)"
   ]
  },
  {
   "cell_type": "code",
   "execution_count": 3,
   "id": "d2e41706",
   "metadata": {
    "ExecuteTime": {
     "end_time": "2023-06-24T06:53:50.544121Z",
     "start_time": "2023-06-24T06:53:50.265148Z"
    }
   },
   "outputs": [],
   "source": [
    "def get_repository_data(user_ids):\n",
    "    \"\"\"\n",
    "    Retrieves repository data for a list of user IDs from the GitHub API.\n",
    "\n",
    "    Args:\n",
    "        user_ids (list): List of GitHub user IDs.\n",
    "\n",
    "    Returns:\n",
    "        dict: Dictionary containing repository data.\n",
    "    \"\"\"\n",
    "    \n",
    "    token = os.getenv('GITHUB_TOKEN')\n",
    "    headers = {'Authorization': f'Token {token}', 'Accept': 'application/vnd.github.v3+json'}\n",
    "    \n",
    "    params = {\n",
    "        'per_page': 100,  # Number of items per page\n",
    "        'page': 1,  # Initial page\n",
    "    }\n",
    "\n",
    "    # Dictionary to store repository data\n",
    "    repositories = {\n",
    "        'id': [],\n",
    "        'owner_id': [],\n",
    "        'language': [],\n",
    "        'created_at': [],\n",
    "        'updated_at': [],\n",
    "        'stargazers_count': [],\n",
    "        'forks_count': [],\n",
    "    }\n",
    "    \n",
    "    total_uid = len(user_ids)\n",
    "    uid_progress_bar = tqdm(total=total_uid, desc=\"Progress Bar\")\n",
    "    \n",
    "    \n",
    "    for u_id in user_ids:\n",
    "        \n",
    "        url = f\"https://api.github.com/user/{u_id}/repos\"\n",
    "        \n",
    "        while True:\n",
    "\n",
    "            response = requests.get(url, headers=headers, params=params, timeout=1000)\n",
    "            # use \"timeout=600\" to prevent \"RemoteDisconnected\" error\n",
    "\n",
    "            if response.status_code == 200:\n",
    "\n",
    "                data = response.json()\n",
    "\n",
    "                for repo in data:\n",
    "\n",
    "                    for key in repositories:\n",
    "                        if key == \"owner_id\":\n",
    "                            repositories['owner_id'].append(repo['owner']['id'])\n",
    "\n",
    "                        elif key == \"created_at\" or key == \"updated_at\":\n",
    "                            date = datetime.strptime(repo[key], \"%Y-%m-%dT%H:%M:%SZ\")\n",
    "                            date = date.strftime('%Y-%m-%d')\n",
    "                            repositories[key].append(date)\n",
    "\n",
    "                        else:\n",
    "                            repositories[key].append(repo[key])\n",
    "\n",
    "                if 'next' in response.links:\n",
    "                    url = response.links['next']['url']  # Next page of results\n",
    "                    params = {}  # No longer need the page parameters\n",
    "                else:\n",
    "                    break\n",
    "\n",
    "            else:\n",
    "                print('Request Error:', response.status_code)\n",
    "                # break\n",
    "                \n",
    "        uid_progress_bar.update(1)\n",
    "\n",
    "    uid_progress_bar.close() \n",
    "    return repositories\n"
   ]
  },
  {
   "cell_type": "code",
   "execution_count": 4,
   "id": "bc9dfc19-e98d-4619-8856-273d97882f57",
   "metadata": {},
   "outputs": [
    {
     "name": "stderr",
     "output_type": "stream",
     "text": [
      "Progress Bar: 100%|██████████| 1755/1755 [47:30<00:00,  1.62s/it] \n"
     ]
    }
   ],
   "source": [
    "# Load existing data from CSV file into a DataFrame\n",
    "users_ids = pd.read_csv(f\"{base_path}/users_ids.csv\", encoding='latin1')\n",
    "users_ids = users_ids['user_id'].to_list()\n",
    "\n",
    "# Retrieve repository data for user IDs\n",
    "final_data = get_repository_data(users_ids)\n"
   ]
  },
  {
   "cell_type": "code",
   "execution_count": 5,
   "id": "7d89602d-1477-4d4a-95e4-ee2dbcedce0c",
   "metadata": {},
   "outputs": [],
   "source": [
    "# Save repository data to a CSV file\n",
    "file_name = f\"{base_path}/repos_data.csv\"\n",
    "users_data = pd.DataFrame(final_data)\n",
    "users_data.to_csv(file_name, index=False, encoding='latin1')\n",
    "\n",
    "# print(f'final_data: {final_data}')"
   ]
  },
  {
   "cell_type": "code",
   "execution_count": null,
   "id": "cea77bc5-aff5-4f05-b685-1ec7b7ba1c09",
   "metadata": {},
   "outputs": [],
   "source": []
  }
 ],
 "metadata": {
  "kernelspec": {
   "display_name": "Python 3 (ipykernel)",
   "language": "python",
   "name": "python3"
  },
  "language_info": {
   "codemirror_mode": {
    "name": "ipython",
    "version": 3
   },
   "file_extension": ".py",
   "mimetype": "text/x-python",
   "name": "python",
   "nbconvert_exporter": "python",
   "pygments_lexer": "ipython3",
   "version": "3.11.8"
  },
  "toc": {
   "base_numbering": 1,
   "nav_menu": {},
   "number_sections": true,
   "sideBar": true,
   "skip_h1_title": false,
   "title_cell": "Table of Contents",
   "title_sidebar": "Contents",
   "toc_cell": false,
   "toc_position": {},
   "toc_section_display": true,
   "toc_window_display": false
  },
  "varInspector": {
   "cols": {
    "lenName": 16,
    "lenType": 16,
    "lenVar": 40
   },
   "kernels_config": {
    "python": {
     "delete_cmd_postfix": "",
     "delete_cmd_prefix": "del ",
     "library": "var_list.py",
     "varRefreshCmd": "print(var_dic_list())"
    },
    "r": {
     "delete_cmd_postfix": ") ",
     "delete_cmd_prefix": "rm(",
     "library": "var_list.r",
     "varRefreshCmd": "cat(var_dic_list()) "
    }
   },
   "types_to_exclude": [
    "module",
    "function",
    "builtin_function_or_method",
    "instance",
    "_Feature"
   ],
   "window_display": false
  }
 },
 "nbformat": 4,
 "nbformat_minor": 5
}
