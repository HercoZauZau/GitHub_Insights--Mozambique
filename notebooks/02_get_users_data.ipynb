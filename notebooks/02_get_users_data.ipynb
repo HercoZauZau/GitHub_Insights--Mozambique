{
 "cells": [
  {
   "cell_type": "markdown",
   "id": "850f328f-1b54-40b8-8b41-b94edda88c56",
   "metadata": {},
   "source": [
    "# Documentação: Coleta de Dados de Usuários do GitHub"
   ]
  },
  {
   "cell_type": "markdown",
   "id": "462cfc91-0ea3-4f51-a22b-ff150fdc236c",
   "metadata": {},
   "source": [
    "## Introdução\n",
    "Este script realiza a coleta de informações sobre usuários do GitHub de forma assíncrona, utilizando a API do GitHub. Ele busca apenas chaves relevantes e salva os dados processados em um arquivo CSV.\n",
    "\n",
    "## Dependências\n",
    "Antes de executar o script, certifique-se de instalar as bibliotecas necessárias:\n",
    "\n",
    "```bash\n",
    "pip install aiohttp nest_asyncio pandas tqdm\n",
    "```\n",
    "\n",
    "## Estrutura do Script\n",
    "\n",
    "### 1. Configuração do Loop Assíncrono\n",
    "```python\n",
    "nest_asyncio.apply()\n",
    "```\n",
    "Em ambientes como Jupyter Notebook, é necessário aplicar `nest_asyncio` para evitar conflitos com o loop de eventos assíncrono.\n",
    "\n",
    "### 2. Definição das Chaves Relevantes\n",
    "```python\n",
    "chaves_relevantes = [\n",
    "    \"login\", \"id\", \"name\", \"company\", \"blog\", \"location\", \"email\", \"bio\",\n",
    "    \"twitter_username\", \"public_repos\", \"public_gists\", \"followers\", \"following\",\n",
    "    \"created_at\", \"updated_at\"\n",
    "]\n",
    "```\n",
    "Define quais informações serão extraídas da API do GitHub.\n",
    "\n",
    "### 3. Função `fetch_user`\n",
    "```python\n",
    "async def fetch_user(session, user_id, semaphore, timeout=1000):\n",
    "```\n",
    "Essa função busca os dados de um usuário específico no GitHub, respeitando um limite de requisições concorrentes.\n",
    "\n",
    "**Parâmetros:**\n",
    "- `session`: Instância de `aiohttp.ClientSession`.\n",
    "- `user_id`: ID do usuário do GitHub.\n",
    "- `semaphore`: Controle de concorrência.\n",
    "- `timeout`: Tempo limite para a requisição.\n",
    "\n",
    "**Retorno:**\n",
    "- Dicionário contendo apenas as chaves relevantes ou `None` em caso de erro.\n",
    "\n",
    "### 4. Função `get_users_data_async`\n",
    "```python\n",
    "async def get_users_data_async(id_list, max_concurrent_requests=10):\n",
    "```\n",
    "Essa função gerencia a execução assíncrona para buscar informações de múltiplos usuários.\n",
    "\n",
    "**Parâmetros:**\n",
    "- `id_list`: Lista de IDs de usuários do GitHub.\n",
    "- `max_concurrent_requests`: Número máximo de requisições concorrentes (padrão: 10).\n",
    "\n",
    "**Retorno:**\n",
    "- Lista de dicionários contendo os dados dos usuários.\n",
    "\n",
    "### 5. Função `get_users_data`\n",
    "```python\n",
    "def get_users_data(id_list):\n",
    "```\n",
    "Função wrapper para chamar a versão assíncrona de maneira síncrona.\n",
    "\n",
    "**Parâmetros:**\n",
    "- `id_list`: Lista de IDs de usuários do GitHub.\n",
    "\n",
    "**Retorno:**\n",
    "- Lista de dicionários contendo os dados dos usuários.\n",
    "\n",
    "### 6. Carregamento de IDs e Salvamento dos Dados\n",
    "```python\n",
    "users_ids = pd.read_csv(f'{base_path}/users_ids.csv', encoding='utf-8')\n",
    "users_ids = users_ids['user_id'].to_list()\n",
    "```\n",
    "Os IDs dos usuários são lidos de um arquivo CSV, e os dados extraídos são salvos em um novo arquivo CSV no caminho definido por `base_path`.\n",
    "\n",
    "**Fluxo Completo:**\n",
    "1. Lê a lista de IDs de usuários do GitHub a partir de um CSV.\n",
    "2. Executa a busca de dados de forma assíncrona.\n",
    "3. Filtra os dados mantendo apenas as chaves relevantes.\n",
    "4. Salva os dados extraídos em um arquivo CSV.\n",
    "\n",
    "### 7. Uso de Variáveis de Ambiente\n",
    "O script requer duas variáveis de ambiente:\n",
    "- `GITHUB_TOKEN`: Token de acesso à API do GitHub.\n",
    "- `DIR_NAME`: Nome do diretório base para armazenamento dos dados processados.\n",
    "\n",
    "Certifique-se de defini-las antes de executar o script.\n"
   ]
  },
  {
   "cell_type": "markdown",
   "id": "56b92633-f11a-4e38-af8d-9a58641d1b85",
   "metadata": {},
   "source": [
    "# Main"
   ]
  },
  {
   "cell_type": "code",
   "execution_count": 1,
   "id": "6e8a17cb",
   "metadata": {
    "ExecuteTime": {
     "end_time": "2023-06-15T23:10:59.713463Z",
     "start_time": "2023-06-15T23:10:53.875867Z"
    }
   },
   "outputs": [
    {
     "data": {
      "text/plain": [
       "True"
      ]
     },
     "execution_count": 1,
     "metadata": {},
     "output_type": "execute_result"
    }
   ],
   "source": [
    "import os\n",
    "import asyncio\n",
    "import aiohttp\n",
    "import pandas as pd\n",
    "from tqdm.asyncio import tqdm\n",
    "import nest_asyncio\n",
    "\n",
    "from dotenv import load_dotenv\n",
    "load_dotenv()"
   ]
  },
  {
   "cell_type": "code",
   "execution_count": 2,
   "id": "02918e70",
   "metadata": {
    "ExecuteTime": {
     "end_time": "2023-06-22T17:17:48.074847Z",
     "start_time": "2023-06-22T17:17:48.063721Z"
    }
   },
   "outputs": [],
   "source": [
    "# Patch the current event loop (útil em ambientes como Jupyter Notebook)\n",
    "nest_asyncio.apply()\n",
    "\n",
    "# Lista de chaves relevantes a serem coletadas na resposta da API do GitHub.\n",
    "chaves_relevantes = [\n",
    "    \"login\",\n",
    "    \"id\",\n",
    "    \"name\",\n",
    "    \"company\",\n",
    "    \"blog\",\n",
    "    \"location\",\n",
    "    \"email\",\n",
    "    \"bio\",\n",
    "    \"twitter_username\",\n",
    "    \"public_repos\",\n",
    "    \"public_gists\",\n",
    "    \"followers\",\n",
    "    \"following\",\n",
    "    \"created_at\",\n",
    "    \"updated_at\"\n",
    "]\n",
    "\n",
    "async def fetch_user(session, user_id, semaphore, timeout=1000):\n",
    "    \"\"\"\n",
    "    Busca os dados de um usuário do GitHub e retorna apenas as chaves relevantes.\n",
    "    \n",
    "    Args:\n",
    "        session (aiohttp.ClientSession): A sessão HTTP ativa.\n",
    "        user_id (int ou str): ID do usuário no GitHub.\n",
    "        semaphore (asyncio.Semaphore): Semáforo para limitar requisições concorrentes.\n",
    "        timeout (int): Tempo máximo de espera para a requisição.\n",
    "        \n",
    "    Returns:\n",
    "        dict ou None: Dicionário com os dados filtrados do usuário ou None em caso de falha.\n",
    "    \"\"\"\n",
    "    url = f\"https://api.github.com/user/{user_id}\"\n",
    "    async with semaphore:\n",
    "        try:\n",
    "            async with session.get(url, timeout=timeout) as response:\n",
    "                if response.status == 200:\n",
    "                    data = await response.json()\n",
    "                    # Filtra os dados, mantendo apenas as chaves relevantes.\n",
    "                    filtered_data = { chave: data.get(chave) for chave in chaves_relevantes }\n",
    "                    return filtered_data\n",
    "                else:\n",
    "                    print(f\"Erro na requisição para o usuário {user_id}: {response.status}\")\n",
    "                    return None\n",
    "        except asyncio.TimeoutError:\n",
    "            print(f\"Tempo esgotado na requisição para o usuário {user_id}\")\n",
    "            return None\n",
    "\n",
    "async def get_users_data_async(id_list, max_concurrent_requests=10):\n",
    "    \"\"\"\n",
    "    Recupera de forma assíncrona os dados dos usuários do GitHub,\n",
    "    mantendo apenas as chaves relevantes.\n",
    "    \n",
    "    Args:\n",
    "        id_list (list): Lista de IDs de usuários do GitHub.\n",
    "        max_concurrent_requests (int): Número máximo de requisições HTTP concorrentes.\n",
    "        \n",
    "    Returns:\n",
    "        list: Lista de dicionários com os dados filtrados dos usuários.\n",
    "    \"\"\"\n",
    "    token = os.getenv('GITHUB_TOKEN')\n",
    "    if not token:\n",
    "        raise ValueError(\"A variável de ambiente GITHUB_TOKEN não está definida.\")\n",
    "    \n",
    "    headers = {\n",
    "        'Authorization': f'Token {token}',\n",
    "        'Accept': 'application/vnd.github.v3+json'\n",
    "    }\n",
    "    \n",
    "    semaphore = asyncio.Semaphore(max_concurrent_requests)\n",
    "    \n",
    "    async with aiohttp.ClientSession(headers=headers) as session:\n",
    "        tasks = [fetch_user(session, user_id, semaphore) for user_id in id_list]\n",
    "        results = []\n",
    "        for coro in tqdm(asyncio.as_completed(tasks), total=len(tasks), desc=\"Processing\"):\n",
    "            user_data = await coro\n",
    "            if user_data:\n",
    "                results.append(user_data)\n",
    "        return results\n",
    "\n",
    "def get_users_data(id_list):\n",
    "    \"\"\"\n",
    "    Wrapper síncrono para executar a recuperação assíncrona dos dados dos usuários.\n",
    "    \n",
    "    Args:\n",
    "        id_list (list): Lista de IDs de usuários do GitHub.\n",
    "    \n",
    "    Returns:\n",
    "        list: Lista de dicionários com os dados filtrados dos usuários.\n",
    "    \"\"\"\n",
    "    return asyncio.run(get_users_data_async(id_list))\n"
   ]
  },
  {
   "cell_type": "code",
   "execution_count": 3,
   "id": "dcf8334e-fc4f-42ba-a58c-7585fbe82a07",
   "metadata": {},
   "outputs": [
    {
     "name": "stderr",
     "output_type": "stream",
     "text": [
      "Processing: 100%|██████████| 1896/1896 [01:55<00:00, 16.43it/s]\n"
     ]
    }
   ],
   "source": [
    "dir_name = os.getenv('DIR_NAME')\n",
    "base_path = f'../data/{dir_name}'\n",
    "os.makedirs(base_path, exist_ok=True)\n",
    "\n",
    "users_ids = pd.read_csv(f'{base_path}/users_ids.csv', encoding='utf-8')\n",
    "users_ids = users_ids['user_id'].to_list()\n",
    "\n",
    "filename = f\"{base_path}/users_data.csv\"\n",
    "users_data = get_users_data(users_ids)"
   ]
  },
  {
   "cell_type": "code",
   "execution_count": 4,
   "id": "b949c082-0f5e-4af8-8698-9c345d455ba9",
   "metadata": {},
   "outputs": [
    {
     "name": "stdout",
     "output_type": "stream",
     "text": [
      "Gravados dados de 1896 usuários.\n"
     ]
    }
   ],
   "source": [
    "users_data = pd.DataFrame(users_data)\n",
    "users_data.to_csv(filename, index=False, encoding='utf-8')\n",
    "\n",
    "print(f'Gravados dados de {len(users_data)} usuários.')"
   ]
  },
  {
   "cell_type": "code",
   "execution_count": null,
   "id": "b20b4be3-b359-4d8a-b85f-3fa60c75febe",
   "metadata": {},
   "outputs": [],
   "source": []
  }
 ],
 "metadata": {
  "kernelspec": {
   "display_name": "Python 3 (ipykernel)",
   "language": "python",
   "name": "python3"
  },
  "language_info": {
   "codemirror_mode": {
    "name": "ipython",
    "version": 3
   },
   "file_extension": ".py",
   "mimetype": "text/x-python",
   "name": "python",
   "nbconvert_exporter": "python",
   "pygments_lexer": "ipython3",
   "version": "3.11.8"
  },
  "toc": {
   "base_numbering": 1,
   "nav_menu": {},
   "number_sections": true,
   "sideBar": true,
   "skip_h1_title": false,
   "title_cell": "Table of Contents",
   "title_sidebar": "Contents",
   "toc_cell": false,
   "toc_position": {},
   "toc_section_display": true,
   "toc_window_display": false
  },
  "varInspector": {
   "cols": {
    "lenName": 16,
    "lenType": 16,
    "lenVar": 40
   },
   "kernels_config": {
    "python": {
     "delete_cmd_postfix": "",
     "delete_cmd_prefix": "del ",
     "library": "var_list.py",
     "varRefreshCmd": "print(var_dic_list())"
    },
    "r": {
     "delete_cmd_postfix": ") ",
     "delete_cmd_prefix": "rm(",
     "library": "var_list.r",
     "varRefreshCmd": "cat(var_dic_list()) "
    }
   },
   "types_to_exclude": [
    "module",
    "function",
    "builtin_function_or_method",
    "instance",
    "_Feature"
   ],
   "window_display": false
  }
 },
 "nbformat": 4,
 "nbformat_minor": 5
}
