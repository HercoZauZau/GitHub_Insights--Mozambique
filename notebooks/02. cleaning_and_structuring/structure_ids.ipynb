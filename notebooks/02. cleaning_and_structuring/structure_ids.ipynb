{
 "cells": [
  {
   "cell_type": "code",
   "execution_count": 2,
   "id": "fc154f8b",
   "metadata": {
    "ExecuteTime": {
     "end_time": "2023-06-12T05:07:19.073549Z",
     "start_time": "2023-06-12T05:07:08.514734Z"
    }
   },
   "outputs": [],
   "source": [
    "import pandas as pd"
   ]
  },
  {
   "cell_type": "code",
   "execution_count": 1,
   "id": "368ce866",
   "metadata": {
    "ExecuteTime": {
     "end_time": "2023-06-24T06:59:32.162418Z",
     "start_time": "2023-06-24T06:59:31.801736Z"
    },
    "scrolled": true
   },
   "outputs": [],
   "source": [
    "def structure_ids(tables):\n",
    "     \"\"\"\n",
    "    Retrieves user IDs from multiple tables and returns a list of IDs.\n",
    "\n",
    "    Parameters:\n",
    "    - tables (list): A list of table names.\n",
    "\n",
    "    Returns:\n",
    "    - ids (list): A list of user IDs extracted from the tables.\n",
    "    \"\"\"\n",
    "        \n",
    "    ids = []\n",
    "    \n",
    "    for i in range(len(tables)):\n",
    "        data = pd.read_csv(f'../../data/raw/{tables[i]}.csv', encoding='latin1')\n",
    "        ids += [id[0] for id in data.values]\n",
    "    \n",
    "    return ids\n",
    "\n",
    "\n",
    "tables = ['maputo', 'matola', 'mocambique', 'moçambique', 'mozambique']\n",
    "ids = structure_ids(tables)\n",
    "\n",
    "new_data = pd.DataFrame({'user_id': ids})\n",
    "\n",
    "print(new_data.head())\n",
    "print('---------------------------------------------')\n",
    "\n",
    "# Check the number of rows and columns in the data\n",
    "print(f\"Number of rows: {new_data.shape[0]}\")\n",
    "print(f\"Number of columns: {new_data.shape[1]}\")\n",
    "print('---------------------------------------------')\n",
    "\n",
    "# Check for duplicate values in the data and remove them\n",
    "print(new_data.duplicated().sum())\n",
    "print('---------------------------------------------')\n",
    "\n",
    "new_data = new_data.drop_duplicates()\n",
    "new_data = new_data.sort_values(by='user_id')\n",
    "\n",
    "print(new_data)\n",
    "print('---------------------------------------------')\n",
    "\n",
    "new_data.to_csv('../../data/processed/user_ids.csv', index=False, encoding='latin1')\n"
   ]
  },
  {
   "cell_type": "code",
   "execution_count": null,
   "id": "c27d65ae",
   "metadata": {},
   "outputs": [],
   "source": []
  }
 ],
 "metadata": {
  "kernelspec": {
   "display_name": "Python 3 (ipykernel)",
   "language": "python",
   "name": "python3"
  },
  "language_info": {
   "codemirror_mode": {
    "name": "ipython",
    "version": 3
   },
   "file_extension": ".py",
   "mimetype": "text/x-python",
   "name": "python",
   "nbconvert_exporter": "python",
   "pygments_lexer": "ipython3",
   "version": "3.10.11"
  },
  "toc": {
   "base_numbering": 1,
   "nav_menu": {},
   "number_sections": true,
   "sideBar": true,
   "skip_h1_title": false,
   "title_cell": "Table of Contents",
   "title_sidebar": "Contents",
   "toc_cell": false,
   "toc_position": {},
   "toc_section_display": true,
   "toc_window_display": false
  },
  "varInspector": {
   "cols": {
    "lenName": 16,
    "lenType": 16,
    "lenVar": 40
   },
   "kernels_config": {
    "python": {
     "delete_cmd_postfix": "",
     "delete_cmd_prefix": "del ",
     "library": "var_list.py",
     "varRefreshCmd": "print(var_dic_list())"
    },
    "r": {
     "delete_cmd_postfix": ") ",
     "delete_cmd_prefix": "rm(",
     "library": "var_list.r",
     "varRefreshCmd": "cat(var_dic_list()) "
    }
   },
   "types_to_exclude": [
    "module",
    "function",
    "builtin_function_or_method",
    "instance",
    "_Feature"
   ],
   "window_display": false
  }
 },
 "nbformat": 4,
 "nbformat_minor": 5
}
